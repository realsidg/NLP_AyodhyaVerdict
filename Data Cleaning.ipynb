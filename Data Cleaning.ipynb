{
 "cells": [
  {
   "cell_type": "code",
   "execution_count": 28,
   "metadata": {},
   "outputs": [],
   "source": [
    "import pickle \n",
    "\n",
    "channels = ['ndtv', 'indiatoday', 'republic']\n",
    "data = {}\n",
    "for c in (channels):\n",
    "    with open(\"transcripts/\" + c + \".txt\", \"rb\") as file:\n",
    "        data[c] = [file.read().decode(\"utf-8\") ]"
   ]
  },
  {
   "cell_type": "code",
   "execution_count": 29,
   "metadata": {},
   "outputs": [
    {
     "data": {
      "text/plain": [
       "dict_keys(['ndtv', 'indiatoday', 'republic'])"
      ]
     },
     "execution_count": 29,
     "metadata": {},
     "output_type": "execute_result"
    }
   ],
   "source": [
    "data.keys()"
   ]
  },
  {
   "cell_type": "code",
   "execution_count": 30,
   "metadata": {},
   "outputs": [
    {
     "data": {
      "text/html": [
       "<div>\n",
       "<style scoped>\n",
       "    .dataframe tbody tr th:only-of-type {\n",
       "        vertical-align: middle;\n",
       "    }\n",
       "\n",
       "    .dataframe tbody tr th {\n",
       "        vertical-align: top;\n",
       "    }\n",
       "\n",
       "    .dataframe thead th {\n",
       "        text-align: right;\n",
       "    }\n",
       "</style>\n",
       "<table border=\"1\" class=\"dataframe\">\n",
       "  <thead>\n",
       "    <tr style=\"text-align: right;\">\n",
       "      <th></th>\n",
       "      <th>transcript</th>\n",
       "    </tr>\n",
       "  </thead>\n",
       "  <tbody>\n",
       "    <tr>\n",
       "      <th>indiatoday</th>\n",
       "      <td>[Music]\\n\\nthe Supreme Court's our yoga verdict was\\n\\ndelivered today five judge unanimous\\n\\nverdict that has given several big\\n\\ntakeaways if ...</td>\n",
       "    </tr>\n",
       "    <tr>\n",
       "      <th>ndtv</th>\n",
       "      <td>hello and welcome you're watching left\\n\\nright and center I'm Sanka the father it\\n\\nis curtains on a very old case of\\n\\nproperty dispute which ...</td>\n",
       "    </tr>\n",
       "    <tr>\n",
       "      <th>republic</th>\n",
       "      <td>hello and welcome ladies and gentlemen\\n\\nthis is live edition of the Sunday\\n\\ndebate and yesterday we it was a\\n\\nhistoric day when the IOT a ve...</td>\n",
       "    </tr>\n",
       "  </tbody>\n",
       "</table>\n",
       "</div>"
      ],
      "text/plain": [
       "                                                                                                                                                       transcript\n",
       "indiatoday  [Music]\\n\\nthe Supreme Court's our yoga verdict was\\n\\ndelivered today five judge unanimous\\n\\nverdict that has given several big\\n\\ntakeaways if ...\n",
       "ndtv        hello and welcome you're watching left\\n\\nright and center I'm Sanka the father it\\n\\nis curtains on a very old case of\\n\\nproperty dispute which ...\n",
       "republic    hello and welcome ladies and gentlemen\\n\\nthis is live edition of the Sunday\\n\\ndebate and yesterday we it was a\\n\\nhistoric day when the IOT a ve..."
      ]
     },
     "execution_count": 30,
     "metadata": {},
     "output_type": "execute_result"
    }
   ],
   "source": [
    "import pandas as pd\n",
    "pd.set_option('max_colwidth',150)\n",
    "\n",
    "data_df = pd.DataFrame.from_dict(data).transpose()\n",
    "data_df.columns = ['transcript']\n",
    "data_df = data_df.sort_index()\n",
    "data_df"
   ]
  },
  {
   "cell_type": "code",
   "execution_count": 31,
   "metadata": {},
   "outputs": [
    {
     "data": {
      "text/plain": [
       "\"hello and welcome you're watching left\\n\\nright and center I'm Sanka the father it\\n\\nis curtains on a very old case of\\n\\nproperty dispute which then became a\\n\\nmatter of faith than a matter of\\n\\nlegality and then a subject matter of\\n\\npolitics before the 17th of November the\\n\\nSupreme Court will pronounce its verdict\\n\\non who owns the disputed land in IOT ax\\n\\nbut mediation attempts had gone on and a\\n\\nreport has now been submitted to the\\n\\nSupreme Court the walk for one of the\\n\\nlitigants are now deeply divided on\\n\\ntheir position let's now quickly pull up\\n\\nthose graphics on screen to tell you\\n\\nwhat exactly has happened first of all\\n\\nthere are three main litigants in the\\n\\nland title suit you've got the near\\n\\nMejia Cara the Sunni wat board and\\n\\nRamallah garage man or the datee Ram la\\n\\nla' now what has the wok Board said\\n\\nwe'll put out those graphics on screen\\n\\nthe wok board\\n\\nsources say in a letter to the mediation\\n\\npanel has said that they have no\\n\\nobjection to the acquisition of the\\n\\ndisputed site by the government\\n\\nprovisions of the 1991 act for\\n\\nprotection of all places of worship\\n\\nshould be strictly implemented that's\\n\\none of the conditions that the wok would\\n\\nreportedly seems to be keeping in view\\n\\nof their removal of objection the main\\n\\nparties who sign this include the SUNY\\n\\nRockport nirvani akhada the parent body\\n\\nof pneumonia Cara the Ram Janmabhoomi by\\n\\nShankar Acharya of Dwarka and the Hindu\\n\\nMahasabha\\n\\nthe wok Board can submit select lists of\\n\\nthe Archaeological Survey of India and\\n\\nthis is these are the conditions\\n\\nasi mosques and committee appointed by\\n\\nthe court will finalize the same for\\n\\noffering worship as of now the ASI sites\\n\\nare out of bounds for people to offer\\n\\ntheir prayers now subsequently what has\\n\\nhappened is that there are many people\\n\\nwithin the Sunni walk vote who have now\\n\\ncome out and said that no\\n\\nour offer or any such talk of us\\n\\noffering to have no objections is false\\n\\nwe will continue to let the Supreme\\n\\nCourt decide this matter for us which is\\n\\nbefore the 17th of November in this case\\n\\nit is also very crucial to be known that\\n\\nyou will have a molding of relief which\\n\\nis another three days for all the\\n\\nstakeholders to give their suggestions\\n\\nto the Supreme Court as to what do they\\n\\nreally expect from this case in terms of\\n\\nrelief now only then will the court come\\n\\nout with its judgment at this moment let\\n\\nme quickly introduce my guests I've got\\n\\narunachala Vaidhyanathan with me he's\\n\\nbeen tracking this case day in and day\\n\\nout for 40 long days where there what a\\n\\nlong journey for you has this been the\\n\\nlongest case of your life or some other\\n\\ncase which you may have covered for so\\n\\nlong there are other cases the overnight\\n\\nhearing yeah but for 40 days treating\\n\\nthis is the only one okay Aarthi jerath\\n\\nis here RT thank you so much for coming\\n\\nthey see in Puna Walla and the studio\\n\\nwith me as well as Geetha but she's a\\n\\npolitical analyst with some other guests\\n\\nalso joining us outside of the studio\\n\\nbut before I go to them let me play out\\n\\nthis interaction I had with another\\n\\ninteresting person who gave a suggestion\\n\\nto the Muslim stakeholders the Sunni\\n\\ncentral wok Board by telling them why\\n\\ndon't you give the land as a gift to the\\n\\nmajority community to build a temple\\n\\nbecause that will be the only\\n\\nintelligent thing to do as of this\\n\\nmoment because just in case imagine a\\n\\nsituation that you win the court case\\n\\nthere will still be no scope for you to\\n\\nbuild a mosque on that disputed site I\\n\\nspoke to left in general Zameer Uddin\\n\\nShah let's play out that conversation my\\n\\nfirst question to you is you know you\\n\\nhave always believed that attempting to\\n\\nfind a solution in this case is very\\n\\nimportant because as you said in the\\n\\npast also this seems to be a losing\\n\\nargument for the Muslims so what\\n\\naccording to you was the\\n\\nbest thing to do instead of contesting\\n\\nthis in court no I don't think there's a\\n\\nlosing argument I think it is a it is an\\n\\nargument for sensibility I mean for\\n\\nusing senses I feel that in court\\n\\nverdict there'll be a winner and a loser\\n\\nif we should not have any losers we\\n\\nshould all have winners and I say never\\n\\ngive up I am aware that this is rather\\n\\nlate in the day but still we have never\\n\\ngiven up and we feel that an\\n\\nout-of-court settlement would be the\\n\\nbest for the country for the amateur of\\n\\nthe country amateur amatory of the\\n\\ncountry and for increasing the muslim\\n\\nhindu brother mm-hmm\\n\\nnow a left little char there are reports\\n\\ncoming in that the mediation panel\\n\\nreport has been submitted and one one of\\n\\nthe points that is being spoken about\\n\\nand this is by way of sources is that\\n\\nthe Sunni wok board will not have any\\n\\nobjection in handing over or allowing\\n\\nthe government to acquire the site do\\n\\nyou see this as some sort of a\\n\\nbreakthrough however there is a rider\\n\\nnot all stake holders agreed to this\\n\\nsolution well suddenly this offer is\\n\\nvery sensible but what you have not\\n\\nmentioned is the riders that too\\n\\nimportant riders are firstly there\\n\\nshould be no repeat of what happened in\\n\\nour there the Muslims want caste and\\n\\nguarantees that this will never happen\\n\\nagain\\n\\nand secondly what we want is the teeth\\n\\nshould be given to the the preservation\\n\\nof mooses of places of worship Act the\\n\\nAmendment Act 1991 I think it does not\\n\\nhave teeth enough it is a very weak law\\n\\nand anybody can violate it with impunity\\n\\nso we want it to become more stringent I\\n\\nthink in case these two things are met\\n\\nthe Muslim Personal Law or the\\n\\n[Music]\\n\\nthe people who have agreed to hand over\\n\\nthe land are well within their rights\\n\\nthat is the son he was born now let me I\\n\\nwill share your own suggestion that the\\n\\nland be gifted for the construction of a\\n\\ntemple to the majority community has\\n\\nbeen greeted with a lot of skepticism\\n\\nparticularly by stakeholders in the\\n\\nMuslim side were you expecting this and\\n\\ndo you feel that this will this will\\n\\nonly go ahead and create animosity and\\n\\nnot find a an amicable solution I was\\n\\nexpecting a backlash I have received a\\n\\nlot of messages saying that what I am\\n\\nwrong but what they don't know is that\\n\\n10 times more I have received messages\\n\\nof support from a wide cross-section of\\n\\nMuslims who do not want to come out\\n\\nopenly but they have sent me messages\\n\\nsaying that the stand we have taken for\\n\\na compromise for Amity for peace in the\\n\\ncountry is absolutely correct\\n\\nwell the Muslim stakeholders left and\\n\\ngeneral Shah say that mediation cannot\\n\\nmean that we give up our claim how would\\n\\nyou respond to that because the feeling\\n\\nis that they're giving up they're giving\\n\\nup the fight no we are not giving up the\\n\\nfight we are adopting a sensible\\n\\napproach giving up a fight is in case\\n\\nyou win and then are not able to\\n\\nreconstruct the mosque which I have told\\n\\nthem is an impossibility that would be\\n\\ngiving up that would be surrender after\\n\\nwinning surrender before a court verdict\\n\\nif we reach an agreement it is not\\n\\ngiving up the fight it is just a move\\n\\ntowards peace and Amity all right life\\n\\nin general siya my final question to you\\n\\nbefore I let you go there are in fact\\n\\nmamas that usually when people try\\n\\nmediating and try offering solutions\\n\\nperhaps and more so in a case like this\\n\\nthey may be doing it out of some\\n\\ninterest political interests if\\n\\nyou were particularly in this case have\\n\\nyou ever been pressurized or told to say\\n\\nwhat you do or the suggestion that you\\n\\ngave by a particular political party our\\n\\npolitical interests let me tell let let\\n\\nme make it clear I have never been\\n\\npressurized right during my service of\\n\\n40 years in the Army and also when I was\\n\\nvice-chancellor of a legal Muslim\\n\\nUniversity because people know me well\\n\\nenough I will not I repeat never and not\\n\\never succumb to pressure\\n\\nalright let's deep dive into a\\n\\ndiscussion now on what are the\\n\\npossibilities no we are not going to\\n\\ndiscuss what the verdict is going to be\\n\\nthat is going to be decided by the court\\n\\nbut its political impact what does this\\n\\nmean for the stakeholders Karthik Chopra\\n\\nis the spokesperson of the Nimmo he\\n\\nacara he's with us sqr Ilias is the\\n\\nadvocate and member of the Muslim\\n\\nPersonal Law Board he's also with us mr.\\n\\nZafar sorry shuara the former Chancellor\\n\\nof the Maulana Azad National hoodoo\\n\\nUniversity will also join us in just a\\n\\nshort moment thank you all of you all\\n\\nladies and gentlemen for being a part of\\n\\nthis discussion let me begin with you\\n\\nKarthik now you've seen that suggestions\\n\\nare being made Karthik on a number of\\n\\noccasions of course there is deep\\n\\ndivision within the Muslim Personal Law\\n\\nBoard beg your pardon the Sunni central\\n\\nwok Board where there are reports and\\n\\nsuggestions that they will not have a\\n\\nproblem if the land is acquired by the\\n\\ngovernment to a point where there are\\n\\nother stakeholders were saying that\\n\\nabsolutely we will have a problem we\\n\\nwill we will continue to wait for the\\n\\ncourt's verdict at a time like this my\\n\\nfundamental question and I'll ask this\\n\\nto of necessarily us also do you think\\n\\nmediation could have avoided this\\n\\nproblem I mean right now with a court\\n\\nverdict as left in general Zameer Uddin\\n\\nShah said there will be a victor and\\n\\nthere will be a loser a mediation would\\n\\nhave ensured an amicable solution as far\\n\\nas far as our akhada is concerned we\\n\\nparticipated in the first round of\\n\\nmediation because we had hoped to have\\n\\ndirect discussions with the sunni\\n\\ncentral work pod which is the other\\n\\ncontesting title that did not happen and\\n\\nwas reported by our lawyers to the\\n\\nHonorable Court as well thereafter in\\n\\nthe second round of mediation of punches\\n\\ndecided that we will not be\\n\\nparticipating because we are already\\n\\ninvolved in the hearings in the\\n\\nHonorable Supreme Court and till we\\n\\npresent our full hearings and are able\\n\\nto present our case in full we are not\\n\\ngoing to take any alternative stand at\\n\\nany other location as far as all these\\n\\nMuslim organizations are concerned who\\n\\nare offering to give up it's a very\\n\\nnoble thought if the sunni central worth\\n\\nwhat we have not been informed by them\\n\\nofficially or by anybody else\\n\\nif the sunni central wa court is willing\\n\\nto give up its suit in favor of nur\\n\\nmooyah cara we welcome that if not then\\n\\nwe will just wait for the Honorable\\n\\nSupreme Court to pass its judgement\\n\\nwhich will come within the next four\\n\\nweeks there after so many after such a\\n\\nmarathon hearing and so much of effort\\n\\nput in by the Honorable judges so much\\n\\nof time of the Honorable Supreme Court\\n\\nbeing taken over this issue at this\\n\\nstage they have come out with this\\n\\nproposal apparently and that also is a\\n\\ndivided house because half of them are\\n\\nsaying that we are against it correct\\n\\nhalf of them say we are for it\\n\\ntheir chairman has one view nobody has\\n\\nany view and if he gives up in favour of\\n\\nwho the moment you say we want to give\\n\\nup opens up another Pandora's box said\\n\\nwho will take possession acquisition\\n\\nBiden above you we we please go back no\\n\\nplease go back to that entire two point\\n\\nseven seven acres within that two point\\n\\nseven seven acres originally it was only\\n\\nthe inner so-called inner courtyard area\\n\\nwhich was in dispute which was attached\\n\\non five one 1950 the outer courtyard got\\n\\nattached later the remaining area got\\n\\nattached after the demolition of eleven\\n\\ntemples of the near Mui acara\\n\\nwhich were situated there including\\n\\nloves ones understand this was done\\n\\nduring Kalyan Singh government's time we\\n\\nchallenged this acquisition which was\\n\\ndone supposedly for public purposes\\n\\nalong with five other Muslim parties\\n\\nHigh Court and u P struck down this\\n\\nacquisition on the 11th of June or\\n\\nDecember 1992 later we have the smile\\n\\nFarooqi judgement and others which\\n\\nclearly say that whoever is the winning\\n\\nendowment out of these title suits which\\n\\nare ongoing in Supreme Court will be\\n\\nable to get back all its as much land as\\n\\nit requires to build whatever be its\\n\\nreligious structure now why should we\\n\\nagree to giving up that acquired land\\n\\nalready acara's\\n\\npunches are clearly directed when this\\n\\nin case of their final they're like this\\n\\nyear to give up the acquired land just a\\n\\nsecond just a second to give up the\\n\\nacquired land they had said that they up\\n\\nand hand over some of this land to\\n\\nanother organization our punches are\\n\\nopposed this and instructed our lawyers\\n\\nto please kindly file objection that is\\n\\nstill lying in the Honorable Court\\n\\ntherefore the whole issue is give up\\n\\ngive up in favor of who if you are going\\n\\nto give up to the near mooyah Cara we as\\n\\nthe shabbiest of Bhagwan Shree Ram Lala\\n\\nRaj man I'm very happy to accept your\\n\\ngiving up in our favor okay okay but had\\n\\nthat been the case then this matter I\\n\\nmean settled amicably in the past also\\n\\nit would not have reached the Supreme\\n\\nCourt mr. sqr Ilyas let me come to you\\n\\nnow so nice rental Bluff word is always\\n\\nwelcome to clarify what it has to say\\n\\nwho they want to go okay okay mr. mr.\\n\\nyes\\n\\nnow I'm only and only talking about this\\n\\nconfusion which has now come about\\n\\nparticularly as far as the Muslim\\n\\nstakeholders are concerned what do you\\n\\nmake of this There is obviously a sense\\n\\nof confusion now you know Sony\\n\\nsandalwood and Sony Central Board is not\\n\\none man body it tastes a comprising of\\n\\nseven to eight people's so it was not a\\n\\nunanimous decision and that - it has not\\n\\ncome before the Supreme Court so I\\n\\ncannot say anything about that because\\n\\nSony is a central vac board is their\\n\\nbody of seven to eight people if they\\n\\nwant to involve in negotiation or if\\n\\nthey want to surrender whatever they\\n\\nwant to do that has to be taken by the\\n\\nentire any work would and that should be\\n\\nRonnie with this Jen so you're saying it\\n\\nis means nothing so what board is not a\\n\\nyeah it is nothing it is nothing almost\\n\\nnothing but who don't you don't you\\n\\nworried that this will send out a very\\n\\nwrong message of deep division within\\n\\nyour own ranks that you don't speak on\\n\\nunison they don't have no effect on a\\n\\ndivision you know you know in this\\n\\nparticular case in this particular case\\n\\nthere are eight litigants from Muslim\\n\\nside Sony central what is one one of\\n\\nthem so Sony and secondly Sony said it\\n\\nis not the decision of the Sony Central\\n\\nBoard it is the decision of one person\\n\\nthat is chairman of the board I and that\\n\\n- where has the chair\\n\\nfor the Supreme Court so we cannot say\\n\\nanything these are some the okay\\n\\nwhatever the case these are the rumors\\n\\nso he has not confirmed that he has said\\n\\nthat thing\\n\\nno no whatever you say yes you're saying\\n\\nthat he's the chairman and on the other\\n\\nhand you are saying these are rumors can\\n\\nyou please clarify as of this moment I\\n\\nhope you realize that this is a very\\n\\nserious case when you when you when you\\n\\nrelegate this all right all right\\n\\nwhen you verify and say that these are\\n\\nyou know from the Chairman no less the\\n\\nChairman can you clarify what is your\\n\\nofficial position listen to me yes yes\\n\\nreally nothing has been communications\\n\\nof the morning buddy has community\\n\\ncoming up this is coming out in the\\n\\nchannels that mr. Lockwood is\\n\\nwithdrawing the case but such such type\\n\\nof thing has not come before the court\\n\\ntoday so how can so unless it has not\\n\\ncome before the court how can we say it\\n\\ncan be reversed\\n\\nunless it is played before the court and\\n\\ncourt have would have received this that\\n\\nSony Central from World War okay as of\\n\\nthis morning this is like this moment so\\n\\nlisten as some sort of a this this will\\n\\nbe seen as deep division in your ranks\\n\\nthis will be seen mr. Ilias as nothing\\n\\nbut deep division not a division at all\\n\\nit is not a division at all okay okay\\n\\nKarthik Chopra as well as mr. Elias I'm\\n\\ngoing to come back to you in just a\\n\\nshort moment let me now quickly come\\n\\nback to my guest in the studio the\\n\\npolitics of it right where they are we\\n\\ngoing to get into the legality in just a\\n\\nshort moment but first the politics of\\n\\nit Aarthi Jarrett they seen pune wala as\\n\\nwell as dr. Park do you feel that\\n\\nthere's this third dimension the third\\n\\nand one is one is the aspect of faith\\n\\nthe other is the aspect of legality and\\n\\nthe third is the aspect of politics do\\n\\nyou think it's this third aspect which\\n\\nwill have its bearing or its impact post\\n\\nthe 17th of November whenever this\\n\\nverdict comes out particularly for a\\n\\nparty like the Bharatiya janta party you\\n\\nknow the party tanta party has made this\\n\\ninto their issue since 1986 following\\n\\nthe pollen poor resolution and it has\\n\\nincluded the construction or\\n\\nRam temple in ayutthaya in every\\n\\nmanifesto since 1989 so it is very\\n\\nclearly although they claim it's a\\n\\nmatter of faith\\n\\nbut it really goes beyond faith it is\\n\\nreally a political issue the rise of the\\n\\nBJP can be attributed to the fact that\\n\\nthey picked up this issue and made it\\n\\ninto their main flank from 1989 onwards\\n\\nif you remember if you go back to the\\n\\nhistory of the junsang you know the the\\n\\nrevocation of article 370 was their core\\n\\nissue but they never ever became a big\\n\\nparty in all those years using this\\n\\nissue it was only when the BJP picked\\n\\naplomb Monday that the BJP is rise\\n\\nactually started so it is very much a\\n\\npolitical issue and I would like to go\\n\\nback to what the prime minister said in\\n\\nan interview just before the elections\\n\\nwhere he was asked this question on the\\n\\nRam temple and he was asked about the\\n\\ndemands from the RSS that they should\\n\\nbring in a law to build a ram temple and\\n\\nhe said very clearly that he will wait\\n\\nfor the judicial process to be over and\\n\\nafter that the government will do what\\n\\nit thinks necessary or what it deems\\n\\nthink and to my mind I mean if I read\\n\\nbetween the lines I think he was keeping\\n\\nthe window open - so let the Court\\n\\ndecide what they have and then there'll\\n\\nbe a food will be a political decision\\n\\nand the government will be very much\\n\\nwithin its right to in any case the land\\n\\nis with the government the government\\n\\nacquired during near Samarra oust any on\\n\\nthe land is with the government and the\\n\\ngovernment can then pass a law to build\\n\\na temple which is I think what the BJP\\n\\nwould like to do it is a long-held\\n\\npromise and they would like to fulfill\\n\\nit like their fulfilled article 370 they\\n\\ndo another one okay now that one of the\\n\\ncore is there is happy everybody got a\\n\\nbox provided there is whatever the world\\n\\nwhatever the verdict okay they are going\\n\\nto get into the what the verdict is\\n\\ngoing exactly I don't know what the\\n\\nverdict is but I think that as far as a\\n\\ngovernment is concerned it would be\\n\\nwithin I mean I think mr. Veda nothing\\n\\ncan correct me if I'm wrong but it would\\n\\nbe within the government's purview to\\n\\nyou know sort of since it has aligned\\n\\nwith with it it can just reiterate the\\n\\nacquisition and then you know pass a law\\n\\nto build a temple okay desi\\n\\nyou know I honestly don't know where to\\n\\nbegin and where to end so let's get a\\n\\ncouple of things I mean I'll start from\\n\\never Artie ended with the Honorable\\n\\nPrime Minister's interview what the\\n\\nHonorable Prime Minister therefore is\\n\\nsaying is the same man who wax eloquent\\n\\nabout the of the majesty of the\\n\\nHonorable Supreme Court has basically no\\n\\nrespect for the Honorable Supreme Court\\n\\nshould the judgment go against what is\\n\\nthe promise of the BJP\\n\\nhe will then bring in a law to build a\\n\\ntemple so his way or no way there is no\\n\\neven kneeling and I put very literally\\n\\nmake my point\\n\\nnow obviously the BJP s rise has been\\n\\nmeteoric because of the ramen there so\\n\\ndeathcap Rahm Jean attempt in in a tent\\n\\nand that's been them a Tory Christ but\\n\\nthe larger point has been this now I\\n\\nwant all your viewers to bear with me\\n\\nlet us imagine a hypothetical situation\\n\\nwhere a chief minister in this case\\n\\nKalyan Singh with a BJP chief minister\\n\\npromises the Honorable Supreme Court\\n\\nthat a temple and using the word temple\\n\\nwill not be broken down a mob then\\n\\ndescends breaks down the temple would\\n\\nthat mop today be in power no justice\\n\\nhas been delivered I am NOT getting in a\\n\\ndispute whether this was a mosque or\\n\\nwhat was it up structure was this was\\n\\nbroken down that matter may be a\\n\\ncriminal matter happening day to day no\\n\\njustice has been served those people\\n\\nhave continued to be in power would that\\n\\nhappen with the Muslims no my entire\\n\\nconstitutional rights were taken away\\n\\npoint number two now let's come to what\\n\\nRT says the Prime Minister says look if\\n\\nnothing happens we can then bring in the\\n\\nlaw it's happened with some I mean I\\n\\nmean I mean between the lines I mean\\n\\nreally between the lines now that's in\\n\\nSabri mala we've had none less than the\\n\\nBJP president taking a completely\\n\\ndifferent stand on the Supreme Court now\\n\\nlet's come to the point this is not just\\n\\na Hindu Muslim dispute legally this\\n\\ndispute is also a Hindu Hindu dispute\\n\\nbetween the male moyer color which\\n\\nKarthik represents and Ramallah which\\n\\nhas been represented starting with\\n\\nAgarwal and other people who claim Allah\\n\\nAllah is ours only we are I agree with\\n\\nthat I agree so there is a claim to be\\n\\nmade innocent mr. Vaidhyanathan and mr.\\n\\npresident I have claimed otherwise but I\\n\\nagree that you've also made that claim\\n\\nthat you all are the original\\n\\nrepresentatives of ROM Lala so there is\\n\\nthat dispute as well which is why even\\n\\nthey shouldn't be a threeway division\\n\\nwhy is this continuously being portrayed\\n\\nas a Hindu Muslim and Karthik is right I\\n\\nagree with Karthik a if the Sunni\\n\\nbuckboard gives up the land in favor of\\n\\nwhom nirakara or Ramallah in favor of\\n\\nwhom who's there who's what is this this\\n\\nis a civil dispute in my opinion and\\n\\nthere's a criminal act that was involved\\n\\nin the structure is when will justice\\n\\nwould that happen okay when we get\\n\\njustice okay okay okay doctor but before\\n\\nI get into the legal aspect my question\\n\\nto you is the party Janata party's\\n\\npromise in its manifesto and the\\n\\nlanguage which changed periodically\\n\\nright I want to know from you your\\n\\nassessment if you allow me very briefly\\n\\nI want to read out since 1996 how the\\n\\nwording on ROM temple promise changed\\n\\nfor the BJP so in 1996 in their\\n\\nmanifesto they said that there will be a\\n\\nmagnificent Ram temple at the gemston an\\n\\nidea on coming to power as this is the\\n\\ndream that moves millions of people in\\n\\nour land in 1998 the BJP is manifesto\\n\\nsays the BJP will explore a new word\\n\\nadded all consensual legal and\\n\\nconstitutional means to facilitate the\\n\\nconstruction right then in 2004 it says\\n\\nBJP reaffirms its commitment to the\\n\\nconstruction of round temples no promise\\n\\nno extra objectives nothing again in\\n\\n2009 the BJP says it will explore all\\n\\npossibilities including negotiations and\\n\\njudicial proceedings to facilitate the\\n\\nconstruction of the Ram temple in 2014\\n\\nthey say that they reiterate their stand\\n\\nto explore all possibilities within the\\n\\nframework of the Constitution to\\n\\nfacilitate the construction of the Ram\\n\\ntemple a language they retain in their\\n\\n2019 manifesto as well do you think that\\n\\nthere was an attempt by the Bharatiya\\n\\nJanata Party to initially sell this as\\n\\ntheir big poll plank then later\\n\\nrealizing that maybe this issue is not\\n\\nworking out and as you see it's slowly\\n\\nevaporating from the manifesto and then\\n\\nit coming back with all the legal you\\n\\nknow adjectives that have been put in\\n\\nthe manifesto\\n\\nsongket - to begin with first since you\\n\\nyou put it for that we are not going in\\n\\nto go we are not going to go into what\\n\\nwould be the judgment right so what I am\\n\\nsaying is that they were the the other\\n\\npanelists actually came forward with\\n\\nthis hypothesis if this happens then\\n\\nthis what is going to be the result so\\n\\nI'm not going to go into that and the\\n\\nfact remains that you know while it has\\n\\nbeen a long wait of 500 years and it\\n\\nseems that now somehow the you know the\\n\\nIndian society and Indian people they\\n\\nhave reached that stage of vindication\\n\\nwhile this closing of the hearing of the\\n\\none of the longest-running cases has\\n\\ntaken place the fact remains that there\\n\\nis first of all it is the you know\\n\\ncultural ethos of of this nation which\\n\\nwe which have been which have been stood\\n\\nto the or which have been standing\\n\\nthrough this judicial interrogation all\\n\\nthis while and one political party any\\n\\nXYZ one political party it stands along\\n\\nwith it along with it reinstating of the\\n\\nculture because when we talk about the\\n\\nit is not just about faith it is also\\n\\nabout reinstating our Indian heritage\\n\\nand Indian culture that is one of the\\n\\nseminal comment has given this affidavit\\n\\nit was right but now the fact is if is\\n\\ntalk about ordinances Parliament or know\\n\\nwhat I mean this discussion that I can\\n\\ncomplete my argument\\n\\nI wanna speak please let me complete\\n\\nvery quickly please let me know you're\\n\\nnot letting me I'm freaking on facts but\\n\\nyou were speaking with hypothesis the\\n\\npoint is that while all this the fact\\n\\nremains is that whatever arguments have\\n\\ntaken place in the court in the last 40\\n\\ndays the you know the Muslim side\\n\\narguments have been very very weak and\\n\\nyou complete meltdown took place today\\n\\nthe way we saw we are very esteemed\\n\\nso-called esteemed lawyer it was\\n\\nappalling to see someone tearing off\\n\\njust because they felt that their\\n\\narguments are not going their way now\\n\\nthe point is that what is important here\\n\\nnobody talked about what the realities\\n\\nconclude yeah my conclusion is let's go\\n\\nback to one political party which stands\\n\\nwith the temple and there were many\\n\\nothers who stood against the temple but\\n\\nthe fact remains that who the Indian\\n\\npeople okay the Indian society what they\\n\\nwant okay so I I'm going to quickly come\\n\\nback to which political party stands\\n\\nwhere and which political party as of\\n\\nthis moment has declared mum as the word\\n\\nbecause because they're once bitten\\n\\ntwice shy with article 370 and the\\n\\nposition that they've taken\\n\\nI lost their scene also this question\\n\\nwhere they let me now come to you forty\\n\\nlong days right I remember in the\\n\\nevening I asked you a question\\n\\nit took more than a year for just the\\n\\ndocuments to be translated into English\\n\\nwhen this matter came to the Supreme\\n\\nCourt if you can just Chronicle for us\\n\\nstuff that people need to know about why\\n\\nthis case is legally so important not\\n\\njust for the courts but for everyone\\n\\nyou see if it's a property dispute in\\n\\nsome other case he totally over within a\\n\\nweek it's just a property there is no\\n\\nlegal I mean constitution bench to sit\\n\\nin to interpret some sort of laws it's\\n\\nnothing like that\\n\\nsince it's as you said politics emotion\\n\\nfaith everything is in also court said\\n\\nlet's see initially people tried\\n\\nobject to it you may recall a couple\\n\\nSybil saying when before the election he\\n\\nsaid have it on 2019 sweet so now\\n\\nfinally 40 long days sweet Chief\\n\\nJustice's very strict person he never\\n\\nallows to give some nonsense in\\n\\nstatements or Nestle wasting the time he\\n\\nkept quiet and all the judges in the\\n\\nbench also kept quiet because it's a\\n\\nvery sensitive issue\\n\\nsuppose if you stop someone then another\\n\\nperson will say in fact dr. Rajiv Dhawan\\n\\nday for yesterday cold the judge is\\n\\nsaying that you are asking only a\\n\\nquestion to Muslim parties by not Hindus\\n\\nso yesterday Chief Justice pacified Evan\\n\\nsaying that are we right we are asking\\n\\nquestions to Hindu side also so this is\\n\\nvery sensitive so it has to be handled\\n\\nvery carefully so that's why if you are\\n\\nknown today so lot of things went on be\\n\\ntoday being the climax just like a film\\n\\nfortieth day so huge crowd in the court\\n\\nand in one of the mean see acrimony\\n\\nheated exchanges even dr. Thurman and\\n\\nwent on tearing some map of a book\\n\\nwhat's the factual position on the\\n\\ntearing of the map see factual pushes to\\n\\nthe map torn or not yes city of stone\\n\\nwas torn it was tall till you see see we\\n\\ncan sing appeared for Indo Maha Sabha no\\n\\nequal to the book and the one was saying\\n\\nthat this is not on record please don't\\n\\ntake it but because Singh said T is not\\n\\nkoti is only showing the map then Devin\\n\\nobjected to it then he said I will tear\\n\\nit off Chief Justice said doctor the one\\n\\nyou can go ahead and tear it off so he\\n\\ntold off then after that what happened\\n\\nso this news went viral in the post line\\n\\nsession diamond came back and said the\\n\\ntold Chief Justice saying that this is\\n\\nnews going on virally and one of the\\n\\njudges also said in the lunchtime they\\n\\nalso saw it on TV so Chief Justice said\\n\\nyou can issue a clarification saying the\\n\\nChief Justice only set it with this\\n\\npermission you tore expose what he wants\\n\\nany 1xb\\n\\none to us but I went to point a point of\\n\\nlegality over here whether I want to\\n\\nknow and I think this will be of\\n\\ninterest to a lot of people in this\\n\\ncountry the Supreme Court has given\\n\\nthree days for people to put forward\\n\\ntheir arguments or their version of what\\n\\nthey feel will be relieved this method\\n\\nor this process is called molding of\\n\\nrelief for the benefit of our viewers if\\n\\nyou could tell us and educate us what\\n\\ndoes this mean to make it simple yeah\\n\\nsuppose there is a compensation to be\\n\\npaid in any accident case first of all\\n\\ndoes this happen in all cases almost\\n\\nokay so in civil cases in civil case\\n\\nokay so what I'm supposed there is an\\n\\nexcellent compensation has to be paid\\n\\nboth parties are that the person who has\\n\\nto pay you will say I will pay 10 lakhs\\n\\nthen she judge may ask what's were view\\n\\nhe may say no no maybe 15 lakhs so they\\n\\nwill say they will give their opening\\n\\nwhat to do then finally Court will\\n\\ndecide on Aman this is this is before\\n\\nwriting the judgment so normally every\\n\\njudge will want to move\\n\\nwhat sort of relief they want so that it\\n\\ncan be reflected in the judgement so\\n\\nthis is the same thing they've asked but\\n\\ninterestingly so all parties they want\\n\\ntheir own portion 1 there will be given\\n\\nto each all the 3 parts to be given to\\n\\nthem so that's why imitation failed yeah\\n\\nso what sort of relief they will yeah\\n\\ncan be I mean there's you know molding\\n\\nforget about Zakir can this one evoke\\n\\nmore say no no we will take only\\n\\none-third we can say ok ok so the the\\n\\nthe litigants now the stakeholders now\\n\\nKarthik do you feel do you feel that\\n\\nthat mediation molding of relief mr.\\n\\nIlias this question is to you also\\n\\nKarthik first moulding of relief you\\n\\nknow do you see all tools I mean after\\n\\nthis every possible tool legal tool in\\n\\nthis country would have been exploited\\n\\nwould have been used do you feel that a\\n\\nchance should be given in the moulding\\n\\nof relief to work out a formula to work\\n\\nout to see the mold a more we as we are\\n\\nstill working we are still working out\\n\\nwith our lawyers what will be the\\n\\nmoulding of relief what is it that we\\n\\nwill present to the hall your thinking\\n\\non those as far as mediation concerned I\\n\\nam still as far as mediation is\\n\\nconcerned I am still\\n\\none thing that we have never ever had\\n\\ndirect discussions with the Sunni work\\n\\nmore face-to-face so that is that is\\n\\nwhat our punches said about mediation\\n\\nthat never happened\\n\\nwhere we had a one-on-one with them to\\n\\nunderstand what they wanted to do know\\n\\nwhat's stopping you\\n\\nyou can meet they have always welcomed\\n\\nthem to come but they don't want to\\n\\nthey're there we have always we are\\n\\nalways ready to meet them it's an open\\n\\ninvitation to them to have a direct\\n\\ndiscussion with them at any time but see\\n\\nyou later the day buddy has been really\\n\\nAsian for the second time our people no\\n\\nno we have we have mentioned this from\\n\\nthe beginning not late in the day since\\n\\nthe beginning\\n\\nno I'm saying now it's late in the day\\n\\nbut missed a chance 19 2010 no no no\\n\\nbefore the judgement is High Court in\\n\\n2010 in writing we said the original two\\n\\ncontesting parties near Maria Cara and\\n\\nSUNY central what Watkins can have a\\n\\ndiscussion well how nice this was man\\n\\nand instantly the Honorable Chief\\n\\nJustice Bharucha at that time mr. leas\\n\\nhow nice would that have been where the\\n\\ntwo stakeholders would have met face to\\n\\nface with no intermediary and solve this\\n\\nyes yes yes we have to make it some\\n\\nutopia also only why this never happened\\n\\nbecause the mediation committee did not\\n\\ndo that\\n\\nthey met individually they did not bring\\n\\nall the people together so it is it is\\n\\nit is the fault of the mediation\\n\\ncommittee not not us me we are demanding\\n\\nthat the the party should sit together\\n\\nand they should negotiate with each\\n\\nother in in presence of mediation\\n\\ncommittee but that has a knock but not\\n\\nnot happen and secondly as for the\\n\\nmorning of relieve is concerned exactly\\n\\nwe are also sitting with our lawyers and\\n\\nwe will try to come out with some\\n\\nsomething no no I want to know mr. yes\\n\\nthis movement that's all those who are\\n\\nwatching this broadcast miss alias can\\n\\nwe expect any molding for there to be\\n\\nrelief because right now with the way\\n\\nthe mediations they have all give it an\\n\\nouting to the honorable court within the\\n\\nnext three days I think we can wait till\\n\\nthen of course we can I'm not even\\n\\nasking you to reveal it on national\\n\\ntelevision because you're supposed to\\n\\ngive it to the court but it will just be\\n\\nan option that you\\n\\nwe will give it to the poor exercise\\n\\nokay okay fine I'm gonna leave it there\\n\\nI'm gonna leave it this let me let me\\n\\nknow if we come back - yeah you were\\n\\nsaying something mr. Lea's not only\\n\\nalright we will we will submit to the\\n\\ncourt within three days in shock okay\\n\\nokay uh weather yes tell me\\n\\nif tomorrow the government were to\\n\\nactually go ahead with this law\\n\\nyou know once all this is sorted out and\\n\\neverything what the Congress party\\n\\nopposed it with the Congress party\\n\\nopposed let's let's ask this question\\n\\nyou know I I mean listen who opened the\\n\\nlocks Rajiv Gandhi Rajiv Gandhi so you\\n\\nknow I mean actually this whole thing\\n\\nyou know began with the opening of the\\n\\nlocks of negativism\\n\\nnot a question of credit I'm just saying\\n\\nthat can that Congress party actually\\n\\nopposed this kind of a law I don't think\\n\\nit will it's been absolutely mum so far\\n\\nevery time Rajiv Rahul Gandhi was asked\\n\\nthis question during the election\\n\\ncampaign he did not okay\\n\\nthey seem they see now my point over\\n\\nhere is for a Congress party yes which\\n\\ntook a position on article 370 and had a\\n\\nsituation where half of your flock like\\n\\nall senior leaders apart from the family\\n\\nwas speaking in a totally different\\n\\nvoice I mean you have many leaders in\\n\\nHaryana many leaders in Maharashtra\\n\\npoll-bound states where they took a\\n\\ntotally different binary opposite line\\n\\ndo you fear that within the Congress\\n\\nparty do you think there is a fear that\\n\\nlet's keep quiet let's at least wait\\n\\ntill the verdict and even post verdict\\n\\nlet's keep quiet so because you will not\\n\\nbe able to form up your opinion I mean\\n\\nthe BJP is position we know starting\\n\\nthough you don't you know the BJP how I\\n\\nwill expose the BJP position wow you\\n\\nlook at their manifesto it's crystal\\n\\nclear what they want they want the\\n\\nconstruction over on temple what the BJP\\n\\nsays and what it does are two separate\\n\\nthings clearly on the show we just\\n\\nexpose one life so now let me start our\\n\\nteas right Rajiv Gandhi opened the locks\\n\\nnot just did he open the lock Rajiv\\n\\nGandhi two days before is there in a\\n\\nvery famous interview said it an it's on\\n\\nrecord then I wish for a ramen there to\\n\\nbe constructed in late again\\n\\nmaybe not tomorrow maybe not a baby\\n\\nnarsimha Rao even brought in an\\n\\nordinance which is blocked by the BGP\\n\\nnow come back to today now I'll tell you\\n\\nwhy the BGP doesn't want this to date as\\n\\nof today they don't want remise I'll\\n\\ntell you why with evidence because\\n\\nSingha who's the representing one Hindu\\n\\nPuck's not Carnegie but the Hindu\\n\\nMahasabha comes in with these so-called\\n\\nmaps why which is not on record only to\\n\\nDelhi because the argument would have\\n\\ngone further Subramanian Swamy comes in\\n\\nand I in a civic dispute where is an\\n\\nintervening application coming there is\\n\\na man a religious it's not been accepted\\n\\nnew revenue from our basket lot please\\n\\ndo not read kake news this is not a\\n\\npublic apology factually\\n\\nbrominium Swamy identity came in winter\\n\\nwhy is it so important today Subramanyam\\n\\nagain today Subramanyam Swami came in it\\n\\nwas not accepted now who also delayed\\n\\nnow to my last point at the end you have\\n\\nnot answered my question I'm coming too\\n\\nwhat is the Congress comes up and says\\n\\nlisten if the India okay you know the\\n\\ndecision to reopen that case should all\\n\\nlook forward that's a wise suggestion\\n\\nbecause you know while the weather while\\n\\nthe are\\n\\nhumans have concluded in the court\\n\\nclearly arguments have only just begun\\n\\nin something where the Honorable Court\\n\\nis going to deliver is right there where\\n\\nthere is telling us something very\\n\\nimportant we must look forward to that\\n\\nauthority Supreme Court yeah yeah\\n\\nKarthik I agree with you yeah yes\\n\\nwhether it's a National Broadcasting\\n\\nAuthority as he shouldn't advise it to\\n\\nall television channels how to conduct\\n\\ndebates don't instigate people and\\n\\nparticularly some panelists they may\\n\\nspeak out of the way\\n\\nit should not be done they've given\\n\\ncomplete those do's and don'ts I think\\n\\nit probably everything of course and and\\n\\nright here on NDTV this will be followed\\n\\nto the tea and I can I can assure each\\n\\nand every viewer where there very\\n\\nquickly I want to know that in terms of\\n\\nlegal options for the stakeholders I am\\n\\nNOT second-guessing the verdict I am NOT\\n\\nasking anyone to but I am saying that\\n\\nfrom here on what is the legal process\\n\\nin this country in terms of legal\\n\\noptions available for the stakeholders -\\n\\nKarthik rightly said we'll have to wait\\n\\nfor the judgement because all options\\n\\nwill open up once it is once the\\n\\njudgment is delivered once the judgment\\n\\ncomes so it's better not in the same way\\n\\nas the judgment of the al-abaad High\\n\\nCourt was a major stepping stone in this\\n\\ncase and a major achievement of moving\\n\\nahead after 100 and almost 25 years in\\n\\nthis case the Honorable Supreme Court's\\n\\njudgment hopefully will have a sense of\\n\\nfinality once and for all\\n\\nvery quickly dahab party over the\\n\\njudgment of 2010 will be finally\\n\\nresolved oh one interesting point is yes\\n\\nAlaba I quote dismissed\\n\\nnirakara as well as Sonia buckboard on\\n\\nbecause of time barred yes so despite\\n\\nthat they were divided into three parts\\n\\nso now they've come here it has been\\n\\nargued miss nothing that has been argued\\n\\nhere in Supreme Court it has been argued\\n\\nin the Supreme elements have been placed\\n\\nby our lawyers I don't want to get into\\n\\nthat debating arguments away no no no I\\n\\nam\\n\\nI am only saying it is interesting to\\n\\nnote what the judgment will be on these\\n\\ntwo points that will be very important\\n\\nokay well thank you all of you all\\n\\nladies and gentlemen for joining me on\\n\\nthis discussion in that respect as\\n\\nCheviot rights remain in okay time for\\n\\nthe benefit of our viewers see this is a\\n\\nvery complex issue so we are taking a\\n\\nbreak as of this moment where there has\\n\\nbeen very kind to us and the viewers of\\n\\nNDTV to explain this in an\\n\\neasy-to-understand format so that you\\n\\nknow what we are discussing and what is\\n\\nthis case all about that report will\\n\\ncome up next after a shortly the first\\n\\ncourt case in the Babri Ram Janmabhoomi\\n\\ndispute is at least 134 years old\\n\\ntoday the legal battles may have finally\\n\\nended on the 40th day of the hearing had\\n\\nmore than its fair share of drama on the\\n\\nlast day both sides Hindu and Muslim\\n\\npetitioners lawyers repeated the\\n\\narguments and demands the Hindu side\\n\\nargues that the disputed site is the\\n\\nbirthplace of Lord Rama and it can't be\\n\\nchanged\\n\\nMuslim petitioners say no temple existed\\n\\nat the site and Babri Masjid was built\\n\\non vacant land the mosque was demolished\\n\\nby a mob in 1992 arguments were marred\\n\\nby acrimony Rica's Singh the lawyer for\\n\\nthe Hindu Mahasabha\\n\\nwhich is the party but not a litigant in\\n\\nthe case coated a book on a yo Thea but\\n\\nthat was opposed by Raji the heaven\\n\\nlawyer for the Muslim parties Navin said\\n\\nthis book can't be relied upon by the\\n\\ncourt the casting replied he wanted only\\n\\nto show a map Navin said he wants to\\n\\ntear off the map to which the Chief\\n\\nJustice said you mr. Thurmond can do\\n\\nwhatever you want\\n\\nimmediately Deven tore the map there\\n\\nwere some interruptions by the advocates\\n\\nhas the tearing sound echoed in the\\n\\ncourtroom to this the Chief Justice said\\n\\ndecorum is not maintained in court and\\n\\nit's being spoiled if proceedings\\n\\ncontinue in this manner we will just get\\n\\nup and walk out after this warning the\\n\\nproceedings calm down this sensitive\\n\\nmatter of religion is not just a complex\\n\\nlegal case but also a politically very\\n\\ncontentious the iota of dispute centers\\n\\non two point seven seven acres of land\\n\\nbelieved to be the birthplace of Lord\\n\\nRama but Muslims say it was a mosque\\n\\nbuilt by the Mughal emperor babur the\\n\\nRaman their issue started becoming a\\n\\nmajor political issue in the 80s\\n\\nofficially making it to the agenda of\\n\\nthe BJP had its pollen poor convention\\n\\nin 1989 this was followed by since then\\n\\nthe party is vodka wiki article path\\n\\ncirca robertiello pony is mostly corona\\n\\nclipper food\\n\\nNepali under Gabbar sir cocky\\n\\nthe issue has a long legal journey as\\n\\nearly as 1885 das venema hunt approached\\n\\nthe local court to build a canopy\\n\\noutside the disputed structure but the\\n\\ncourt rejected it then in 1949 idols of\\n\\nROM Lala were controversially placed\\n\\nunder the central dome outside the\\n\\ndisputed structure 1950 onwards various\\n\\nsuits were filed by both Hindus and\\n\\nMuslims and it finally reached the\\n\\nAlabama Court on the 30th of September\\n\\n2010 The Alibi High Court in a\\n\\ntwo-to-one majority divided the disputed\\n\\n2.77 acres into three paths between the\\n\\nSunni walk thwart the near mahir Kara\\n\\nand the datee ROM Lala but all the three\\n\\nparties moved the Supreme Court against\\n\\nthe High Court verdict and in 2011 the\\n\\nSupreme Court stayed the High Court\\n\\njudgement finally this year of\\n\\nfive-judge bench headed by the Chief\\n\\nJustice of India just as Ranjan Gogoi\\n\\nbegan day to day hearings the Hindu\\n\\npetitioners say faith is the evidence\\n\\nLord Ram was born here the unshakable\\n\\nfaith of millions in Lord Rama\\n\\nitself is the proof that the disputed\\n\\nland is Ram Janmabhoomi no Muslim even\\n\\nattempted to enter it at least since\\n\\n1934 and Hindus continue to worship at\\n\\nthe disputed site from 1850 the\\n\\nstructure before the Babri Masjid was a\\n\\nHindu religious structure and it was\\n\\ndemolished and the mosque was built over\\n\\nit the Archaeological Survey report says\\n\\na non-islamic structure existed and the\\n\\nimages found at the pillars point to a\\n\\ntemple Muslims can pray in any other\\n\\nmosque as there are 55 to 60 mosques in\\n\\na Odia alone Hindus have fought for the\\n\\nplace believed to be the birthplace of\\n\\nLord Rama Hindu petitions also say for\\n\\nMuslims its historic mosque all mosque\\n\\nare equal for Muslims but for Hindus it\\n\\nis a birthplace of Lord Rama and Bert\\n\\nplace cannot be changed\\n\\nSupreme Court should undo the historical\\n\\nwrong of destruction of the temple in\\n\\nAyodhya to build a mosque Muslim\\n\\npetitioners countered the arguments they\\n\\ntold the top court there was no massive\\n\\nstructure at the site and no Hindu\\n\\nmotives just because there is a peacock\\n\\nor Lotus does not mean they're Hindu one\\n\\nview is that these institutions came\\n\\ninto existence during the Buddhist\\n\\nperiod but it's difficult to say when\\n\\nexactly idol worship started the\\n\\njudgment of the Olivar High Court is\\n\\nbased on conjectures and preponderance\\n\\nof probability how do you do a\\n\\npreponderance of probability of\\n\\nhistorical dates the Hindu side had said\\n\\nMuslims did not pray at the site after\\n\\n1934 but it was the Hindus that didn't\\n\\nallow the Muslims to pray at the Masjid\\n\\nthe law is argued installation of the\\n\\nidols of Hindu deities inside the Dome\\n\\nof the Babri Masjid in 1949 was a\\n\\nplanned tsarouchas attack photographs of\\n\\n1959 show Allah inscribed in Arabic\\n\\ncalligraphy the pillars inside the\\n\\nstructure have nothing to show the place\\n\\nwas a temple they were entitled to\\n\\nrestoration of the building as it stood\\n\\non 5th December 1992 there was no claim\\n\\nof title by Hindus till 1989 there was\\n\\nno finding of destruction of the temple\\n\\nby the Archaeological Survey of India\\n\\nMuslims were in possession of the land\\n\\nthroat claim of title by Hindus in 1886\\n\\nwas denied beliefs travelogues cannot\\n\\ngive Hindus the title possession of\\n\\nMuslims was never in doubt custom is not\\n\\na mind game and it can\\n\\nbe mixed but believe Muslims have been\\n\\nshrunk to the little size of 433 yards\\n\\nexcluding the dome as per the High Court\\n\\nverdict the top court is expected to\\n\\npronounce the word before the 17th of\\n\\nNovember the date the Chief Justice of\\n\\nIndia Justice Ranjan Gogoi retires with\\n\\na vaidyanathan shaitaan' party charge\\n\\nEffendi TV\\n\\n\""
      ]
     },
     "execution_count": 31,
     "metadata": {},
     "output_type": "execute_result"
    }
   ],
   "source": [
    "data_df.transcript.loc['ndtv']"
   ]
  },
  {
   "cell_type": "code",
   "execution_count": 32,
   "metadata": {},
   "outputs": [],
   "source": [
    "import re\n",
    "import string\n",
    "\n",
    "def clean_text_round1(text):\n",
    "    '''Make text lowercase, remove text in square brackets, remove punctuation and remove words containing numbers.'''\n",
    "    text = text.lower()\n",
    "    text = re.sub('\\[.*?\\]', '', text)\n",
    "    text = re.sub('[%s]' % re.escape(string.punctuation), '', text)\n",
    "    text = re.sub('\\w*\\d\\w*', '', text)\n",
    "    return text\n",
    "\n",
    "round1 = lambda x: clean_text_round1(x)"
   ]
  },
  {
   "cell_type": "code",
   "execution_count": 35,
   "metadata": {},
   "outputs": [],
   "source": [
    "data_clean = pd.DataFrame(data_df.transcript.apply(round1))"
   ]
  },
  {
   "cell_type": "code",
   "execution_count": 36,
   "metadata": {
    "scrolled": true
   },
   "outputs": [
    {
     "data": {
      "text/html": [
       "<div>\n",
       "<style scoped>\n",
       "    .dataframe tbody tr th:only-of-type {\n",
       "        vertical-align: middle;\n",
       "    }\n",
       "\n",
       "    .dataframe tbody tr th {\n",
       "        vertical-align: top;\n",
       "    }\n",
       "\n",
       "    .dataframe thead th {\n",
       "        text-align: right;\n",
       "    }\n",
       "</style>\n",
       "<table border=\"1\" class=\"dataframe\">\n",
       "  <thead>\n",
       "    <tr style=\"text-align: right;\">\n",
       "      <th></th>\n",
       "      <th>transcript</th>\n",
       "    </tr>\n",
       "  </thead>\n",
       "  <tbody>\n",
       "    <tr>\n",
       "      <th>indiatoday</th>\n",
       "      <td>\\n\\nthe supreme courts our yoga verdict was\\n\\ndelivered today five judge unanimous\\n\\nverdict that has given several big\\n\\ntakeaways if youve ju...</td>\n",
       "    </tr>\n",
       "    <tr>\n",
       "      <th>ndtv</th>\n",
       "      <td>hello and welcome youre watching left\\n\\nright and center im sanka the father it\\n\\nis curtains on a very old case of\\n\\nproperty dispute which th...</td>\n",
       "    </tr>\n",
       "    <tr>\n",
       "      <th>republic</th>\n",
       "      <td>hello and welcome ladies and gentlemen\\n\\nthis is live edition of the sunday\\n\\ndebate and yesterday we it was a\\n\\nhistoric day when the iot a ve...</td>\n",
       "    </tr>\n",
       "  </tbody>\n",
       "</table>\n",
       "</div>"
      ],
      "text/plain": [
       "                                                                                                                                                       transcript\n",
       "indiatoday  \\n\\nthe supreme courts our yoga verdict was\\n\\ndelivered today five judge unanimous\\n\\nverdict that has given several big\\n\\ntakeaways if youve ju...\n",
       "ndtv        hello and welcome youre watching left\\n\\nright and center im sanka the father it\\n\\nis curtains on a very old case of\\n\\nproperty dispute which th...\n",
       "republic    hello and welcome ladies and gentlemen\\n\\nthis is live edition of the sunday\\n\\ndebate and yesterday we it was a\\n\\nhistoric day when the iot a ve..."
      ]
     },
     "execution_count": 36,
     "metadata": {},
     "output_type": "execute_result"
    }
   ],
   "source": [
    "data_clean"
   ]
  },
  {
   "cell_type": "code",
   "execution_count": 37,
   "metadata": {},
   "outputs": [],
   "source": [
    "def clean_text_round2(text):\n",
    "    '''Get rid of some additional punctuation and non-sensical text that was missed the first time around.'''\n",
    "    text = re.sub('[‘’“”…]', '', text)\n",
    "    text = re.sub('\\n', '', text)\n",
    "    return text\n",
    "\n",
    "round2 = lambda x: clean_text_round2(x)"
   ]
  },
  {
   "cell_type": "code",
   "execution_count": 38,
   "metadata": {},
   "outputs": [
    {
     "data": {
      "text/html": [
       "<div>\n",
       "<style scoped>\n",
       "    .dataframe tbody tr th:only-of-type {\n",
       "        vertical-align: middle;\n",
       "    }\n",
       "\n",
       "    .dataframe tbody tr th {\n",
       "        vertical-align: top;\n",
       "    }\n",
       "\n",
       "    .dataframe thead th {\n",
       "        text-align: right;\n",
       "    }\n",
       "</style>\n",
       "<table border=\"1\" class=\"dataframe\">\n",
       "  <thead>\n",
       "    <tr style=\"text-align: right;\">\n",
       "      <th></th>\n",
       "      <th>transcript</th>\n",
       "    </tr>\n",
       "  </thead>\n",
       "  <tbody>\n",
       "    <tr>\n",
       "      <th>indiatoday</th>\n",
       "      <td>the supreme courts our yoga verdict wasdelivered today five judge unanimousverdict that has given several bigtakeaways if youve just joined us and...</td>\n",
       "    </tr>\n",
       "    <tr>\n",
       "      <th>ndtv</th>\n",
       "      <td>hello and welcome youre watching leftright and center im sanka the father itis curtains on a very old case ofproperty dispute which then became am...</td>\n",
       "    </tr>\n",
       "    <tr>\n",
       "      <th>republic</th>\n",
       "      <td>hello and welcome ladies and gentlementhis is live edition of the sundaydebate and yesterday we it was ahistoric day when the iot a verdict cameou...</td>\n",
       "    </tr>\n",
       "  </tbody>\n",
       "</table>\n",
       "</div>"
      ],
      "text/plain": [
       "                                                                                                                                                       transcript\n",
       "indiatoday  the supreme courts our yoga verdict wasdelivered today five judge unanimousverdict that has given several bigtakeaways if youve just joined us and...\n",
       "ndtv        hello and welcome youre watching leftright and center im sanka the father itis curtains on a very old case ofproperty dispute which then became am...\n",
       "republic    hello and welcome ladies and gentlementhis is live edition of the sundaydebate and yesterday we it was ahistoric day when the iot a verdict cameou..."
      ]
     },
     "execution_count": 38,
     "metadata": {},
     "output_type": "execute_result"
    }
   ],
   "source": [
    "data_clean = pd.DataFrame(data_clean.transcript.apply(round2))\n",
    "data_clean"
   ]
  },
  {
   "cell_type": "code",
   "execution_count": 40,
   "metadata": {},
   "outputs": [],
   "source": [
    "data_df\n",
    "data_df.to_pickle(\"corpus.pkl\")"
   ]
  },
  {
   "cell_type": "code",
   "execution_count": 41,
   "metadata": {},
   "outputs": [
    {
     "data": {
      "text/html": [
       "<div>\n",
       "<style scoped>\n",
       "    .dataframe tbody tr th:only-of-type {\n",
       "        vertical-align: middle;\n",
       "    }\n",
       "\n",
       "    .dataframe tbody tr th {\n",
       "        vertical-align: top;\n",
       "    }\n",
       "\n",
       "    .dataframe thead th {\n",
       "        text-align: right;\n",
       "    }\n",
       "</style>\n",
       "<table border=\"1\" class=\"dataframe\">\n",
       "  <thead>\n",
       "    <tr style=\"text-align: right;\">\n",
       "      <th></th>\n",
       "      <th>aanybody</th>\n",
       "      <th>aapke</th>\n",
       "      <th>aaron</th>\n",
       "      <th>aarthi</th>\n",
       "      <th>abalance</th>\n",
       "      <th>abalanced</th>\n",
       "      <th>abarnacle</th>\n",
       "      <th>abassist</th>\n",
       "      <th>abelief</th>\n",
       "      <th>aberration</th>\n",
       "      <th>...</th>\n",
       "      <th>youwhy</th>\n",
       "      <th>youworried</th>\n",
       "      <th>youwould</th>\n",
       "      <th>youyou</th>\n",
       "      <th>yupi</th>\n",
       "      <th>zakir</th>\n",
       "      <th>zameen</th>\n",
       "      <th>zameer</th>\n",
       "      <th>zfg</th>\n",
       "      <th>zoom</th>\n",
       "    </tr>\n",
       "  </thead>\n",
       "  <tbody>\n",
       "    <tr>\n",
       "      <th>indiatoday</th>\n",
       "      <td>1</td>\n",
       "      <td>0</td>\n",
       "      <td>0</td>\n",
       "      <td>0</td>\n",
       "      <td>1</td>\n",
       "      <td>2</td>\n",
       "      <td>0</td>\n",
       "      <td>0</td>\n",
       "      <td>0</td>\n",
       "      <td>0</td>\n",
       "      <td>...</td>\n",
       "      <td>0</td>\n",
       "      <td>0</td>\n",
       "      <td>1</td>\n",
       "      <td>0</td>\n",
       "      <td>1</td>\n",
       "      <td>0</td>\n",
       "      <td>1</td>\n",
       "      <td>0</td>\n",
       "      <td>0</td>\n",
       "      <td>0</td>\n",
       "    </tr>\n",
       "    <tr>\n",
       "      <th>ndtv</th>\n",
       "      <td>0</td>\n",
       "      <td>0</td>\n",
       "      <td>0</td>\n",
       "      <td>2</td>\n",
       "      <td>0</td>\n",
       "      <td>0</td>\n",
       "      <td>0</td>\n",
       "      <td>0</td>\n",
       "      <td>0</td>\n",
       "      <td>0</td>\n",
       "      <td>...</td>\n",
       "      <td>1</td>\n",
       "      <td>1</td>\n",
       "      <td>0</td>\n",
       "      <td>2</td>\n",
       "      <td>0</td>\n",
       "      <td>1</td>\n",
       "      <td>0</td>\n",
       "      <td>2</td>\n",
       "      <td>0</td>\n",
       "      <td>0</td>\n",
       "    </tr>\n",
       "    <tr>\n",
       "      <th>republic</th>\n",
       "      <td>0</td>\n",
       "      <td>1</td>\n",
       "      <td>1</td>\n",
       "      <td>0</td>\n",
       "      <td>1</td>\n",
       "      <td>0</td>\n",
       "      <td>1</td>\n",
       "      <td>1</td>\n",
       "      <td>1</td>\n",
       "      <td>1</td>\n",
       "      <td>...</td>\n",
       "      <td>0</td>\n",
       "      <td>0</td>\n",
       "      <td>0</td>\n",
       "      <td>0</td>\n",
       "      <td>0</td>\n",
       "      <td>0</td>\n",
       "      <td>0</td>\n",
       "      <td>0</td>\n",
       "      <td>1</td>\n",
       "      <td>2</td>\n",
       "    </tr>\n",
       "  </tbody>\n",
       "</table>\n",
       "<p>3 rows × 6306 columns</p>\n",
       "</div>"
      ],
      "text/plain": [
       "            aanybody  aapke  aaron  aarthi  abalance  abalanced  abarnacle  \\\n",
       "indiatoday         1      0      0       0         1          2          0   \n",
       "ndtv               0      0      0       2         0          0          0   \n",
       "republic           0      1      1       0         1          0          1   \n",
       "\n",
       "            abassist  abelief  aberration  ...  youwhy  youworried  youwould  \\\n",
       "indiatoday         0        0           0  ...       0           0         1   \n",
       "ndtv               0        0           0  ...       1           1         0   \n",
       "republic           1        1           1  ...       0           0         0   \n",
       "\n",
       "            youyou  yupi  zakir  zameen  zameer  zfg  zoom  \n",
       "indiatoday       0     1      0       1       0    0     0  \n",
       "ndtv             2     0      1       0       2    0     0  \n",
       "republic         0     0      0       0       0    1     2  \n",
       "\n",
       "[3 rows x 6306 columns]"
      ]
     },
     "execution_count": 41,
     "metadata": {},
     "output_type": "execute_result"
    }
   ],
   "source": [
    "from sklearn.feature_extraction.text import CountVectorizer\n",
    "\n",
    "cv = CountVectorizer(stop_words='english')\n",
    "data_cv = cv.fit_transform(data_clean.transcript)\n",
    "data_dtm = pd.DataFrame(data_cv.toarray(), columns=cv.get_feature_names())\n",
    "data_dtm.index = data_clean.index\n",
    "data_dtm"
   ]
  },
  {
   "cell_type": "code",
   "execution_count": 42,
   "metadata": {},
   "outputs": [],
   "source": [
    "data_dtm.to_pickle(\"dtm.pkl\")"
   ]
  },
  {
   "cell_type": "code",
   "execution_count": 43,
   "metadata": {},
   "outputs": [],
   "source": [
    "data_clean.to_pickle('data_clean.pkl')\n",
    "pickle.dump(cv, open(\"cv.pkl\", \"wb\"))"
   ]
  }
 ],
 "metadata": {
  "kernelspec": {
   "display_name": "Python 3",
   "language": "python",
   "name": "python3"
  },
  "language_info": {
   "codemirror_mode": {
    "name": "ipython",
    "version": 3
   },
   "file_extension": ".py",
   "mimetype": "text/x-python",
   "name": "python",
   "nbconvert_exporter": "python",
   "pygments_lexer": "ipython3",
   "version": "3.7.3"
  }
 },
 "nbformat": 4,
 "nbformat_minor": 2
}

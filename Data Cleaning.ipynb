{
 "cells": [
  {
   "cell_type": "code",
   "execution_count": 1,
   "metadata": {},
   "outputs": [],
   "source": [
    "import pickle \n",
    "\n",
    "channels = ['ndtv', 'indiatoday', 'republic']\n",
    "data = {}\n",
    "for c in (channels):\n",
    "    with open(\"transcripts/\" + c + \".txt\", \"rb\") as file:\n",
    "        data[c] = [file.read().decode(\"utf-8\") ]"
   ]
  },
  {
   "cell_type": "code",
   "execution_count": 2,
   "metadata": {},
   "outputs": [
    {
     "data": {
      "text/plain": [
       "dict_keys(['ndtv', 'indiatoday', 'republic'])"
      ]
     },
     "execution_count": 2,
     "metadata": {},
     "output_type": "execute_result"
    }
   ],
   "source": [
    "data.keys()"
   ]
  },
  {
   "cell_type": "code",
   "execution_count": 3,
   "metadata": {
    "scrolled": true
   },
   "outputs": [
    {
     "data": {
      "text/html": [
       "<div>\n",
       "<style scoped>\n",
       "    .dataframe tbody tr th:only-of-type {\n",
       "        vertical-align: middle;\n",
       "    }\n",
       "\n",
       "    .dataframe tbody tr th {\n",
       "        vertical-align: top;\n",
       "    }\n",
       "\n",
       "    .dataframe thead th {\n",
       "        text-align: right;\n",
       "    }\n",
       "</style>\n",
       "<table border=\"1\" class=\"dataframe\">\n",
       "  <thead>\n",
       "    <tr style=\"text-align: right;\">\n",
       "      <th></th>\n",
       "      <th>transcript</th>\n",
       "    </tr>\n",
       "  </thead>\n",
       "  <tbody>\n",
       "    <tr>\n",
       "      <th>indiatoday</th>\n",
       "      <td>[Music]\\r\\n\\r\\nthe Supreme Court's our yoga verdict was\\r\\n\\r\\ndelivered today five judge unanimous\\r\\n\\r\\nverdict that has given several big\\r\\n\\...</td>\n",
       "    </tr>\n",
       "    <tr>\n",
       "      <th>ndtv</th>\n",
       "      <td>hello and welcome you're watching left\\r\\n\\r\\nright and center I'm Sanka the father it\\r\\n\\r\\nis curtains on a very old case of\\r\\n\\r\\nproperty di...</td>\n",
       "    </tr>\n",
       "    <tr>\n",
       "      <th>republic</th>\n",
       "      <td>hello and welcome ladies and gentlemen\\r\\n\\r\\nthis is live edition of the Sunday\\r\\n\\r\\ndebate and yesterday we it was a\\r\\n\\r\\nhistoric day when ...</td>\n",
       "    </tr>\n",
       "  </tbody>\n",
       "</table>\n",
       "</div>"
      ],
      "text/plain": [
       "                                                                                                                                                       transcript\n",
       "indiatoday  [Music]\\r\\n\\r\\nthe Supreme Court's our yoga verdict was\\r\\n\\r\\ndelivered today five judge unanimous\\r\\n\\r\\nverdict that has given several big\\r\\n\\...\n",
       "ndtv        hello and welcome you're watching left\\r\\n\\r\\nright and center I'm Sanka the father it\\r\\n\\r\\nis curtains on a very old case of\\r\\n\\r\\nproperty di...\n",
       "republic    hello and welcome ladies and gentlemen\\r\\n\\r\\nthis is live edition of the Sunday\\r\\n\\r\\ndebate and yesterday we it was a\\r\\n\\r\\nhistoric day when ..."
      ]
     },
     "execution_count": 3,
     "metadata": {},
     "output_type": "execute_result"
    }
   ],
   "source": [
    "import pandas as pd\n",
    "pd.set_option('max_colwidth',150)\n",
    "\n",
    "data_df = pd.DataFrame.from_dict(data).transpose()\n",
    "data_df.columns = ['transcript']\n",
    "data_df = data_df.sort_index()\n",
    "data_df"
   ]
  },
  {
   "cell_type": "code",
   "execution_count": 4,
   "metadata": {},
   "outputs": [
    {
     "data": {
      "text/plain": [
       "\"hello and welcome you're watching left\\r\\n\\r\\nright and center I'm Sanka the father it\\r\\n\\r\\nis curtains on a very old case of\\r\\n\\r\\nproperty dispute which then became a\\r\\n\\r\\nmatter of faith than a matter of\\r\\n\\r\\nlegality and then a subject matter of\\r\\n\\r\\npolitics before the 17th of November the\\r\\n\\r\\nSupreme Court will pronounce its verdict\\r\\n\\r\\non who owns the disputed land in IOT ax\\r\\n\\r\\nbut mediation attempts had gone on and a\\r\\n\\r\\nreport has now been submitted to the\\r\\n\\r\\nSupreme Court the walk for one of the\\r\\n\\r\\nlitigants are now deeply divided on\\r\\n\\r\\ntheir position let's now quickly pull up\\r\\n\\r\\nthose graphics on screen to tell you\\r\\n\\r\\nwhat exactly has happened first of all\\r\\n\\r\\nthere are three main litigants in the\\r\\n\\r\\nland title suit you've got the near\\r\\n\\r\\nMejia Cara the Sunni wat board and\\r\\n\\r\\nRamallah garage man or the datee Ram la\\r\\n\\r\\nla' now what has the wok Board said\\r\\n\\r\\nwe'll put out those graphics on screen\\r\\n\\r\\nthe wok board\\r\\n\\r\\nsources say in a letter to the mediation\\r\\n\\r\\npanel has said that they have no\\r\\n\\r\\nobjection to the acquisition of the\\r\\n\\r\\ndisputed site by the government\\r\\n\\r\\nprovisions of the 1991 act for\\r\\n\\r\\nprotection of all places of worship\\r\\n\\r\\nshould be strictly implemented that's\\r\\n\\r\\none of the conditions that the wok would\\r\\n\\r\\nreportedly seems to be keeping in view\\r\\n\\r\\nof their removal of objection the main\\r\\n\\r\\nparties who sign this include the SUNY\\r\\n\\r\\nRockport nirvani akhada the parent body\\r\\n\\r\\nof pneumonia Cara the Ram Janmabhoomi by\\r\\n\\r\\nShankar Acharya of Dwarka and the Hindu\\r\\n\\r\\nMahasabha\\r\\n\\r\\nthe wok Board can submit select lists of\\r\\n\\r\\nthe Archaeological Survey of India and\\r\\n\\r\\nthis is these are the conditions\\r\\n\\r\\nasi mosques and committee appointed by\\r\\n\\r\\nthe court will finalize the same for\\r\\n\\r\\noffering worship as of now the ASI sites\\r\\n\\r\\nare out of bounds for people to offer\\r\\n\\r\\ntheir prayers now subsequently what has\\r\\n\\r\\nhappened is that there are many people\\r\\n\\r\\nwithin the Sunni walk vote who have now\\r\\n\\r\\ncome out and said that no\\r\\n\\r\\nour offer or any such talk of us\\r\\n\\r\\noffering to have no objections is false\\r\\n\\r\\nwe will continue to let the Supreme\\r\\n\\r\\nCourt decide this matter for us which is\\r\\n\\r\\nbefore the 17th of November in this case\\r\\n\\r\\nit is also very crucial to be known that\\r\\n\\r\\nyou will have a molding of relief which\\r\\n\\r\\nis another three days for all the\\r\\n\\r\\nstakeholders to give their suggestions\\r\\n\\r\\nto the Supreme Court as to what do they\\r\\n\\r\\nreally expect from this case in terms of\\r\\n\\r\\nrelief now only then will the court come\\r\\n\\r\\nout with its judgment at this moment let\\r\\n\\r\\nme quickly introduce my guests I've got\\r\\n\\r\\narunachala Vaidhyanathan with me he's\\r\\n\\r\\nbeen tracking this case day in and day\\r\\n\\r\\nout for 40 long days where there what a\\r\\n\\r\\nlong journey for you has this been the\\r\\n\\r\\nlongest case of your life or some other\\r\\n\\r\\ncase which you may have covered for so\\r\\n\\r\\nlong there are other cases the overnight\\r\\n\\r\\nhearing yeah but for 40 days treating\\r\\n\\r\\nthis is the only one okay Aarthi jerath\\r\\n\\r\\nis here RT thank you so much for coming\\r\\n\\r\\nthey see in Puna Walla and the studio\\r\\n\\r\\nwith me as well as Geetha but she's a\\r\\n\\r\\npolitical analyst with some other guests\\r\\n\\r\\nalso joining us outside of the studio\\r\\n\\r\\nbut before I go to them let me play out\\r\\n\\r\\nthis interaction I had with another\\r\\n\\r\\ninteresting person who gave a suggestion\\r\\n\\r\\nto the Muslim stakeholders the Sunni\\r\\n\\r\\ncentral wok Board by telling them why\\r\\n\\r\\ndon't you give the land as a gift to the\\r\\n\\r\\nmajority community to build a temple\\r\\n\\r\\nbecause that will be the only\\r\\n\\r\\nintelligent thing to do as of this\\r\\n\\r\\nmoment because just in case imagine a\\r\\n\\r\\nsituation that you win the court case\\r\\n\\r\\nthere will still be no scope for you to\\r\\n\\r\\nbuild a mosque on that disputed site I\\r\\n\\r\\nspoke to left in general Zameer Uddin\\r\\n\\r\\nShah let's play out that conversation my\\r\\n\\r\\nfirst question to you is you know you\\r\\n\\r\\nhave always believed that attempting to\\r\\n\\r\\nfind a solution in this case is very\\r\\n\\r\\nimportant because as you said in the\\r\\n\\r\\npast also this seems to be a losing\\r\\n\\r\\nargument for the Muslims so what\\r\\n\\r\\naccording to you was the\\r\\n\\r\\nbest thing to do instead of contesting\\r\\n\\r\\nthis in court no I don't think there's a\\r\\n\\r\\nlosing argument I think it is a it is an\\r\\n\\r\\nargument for sensibility I mean for\\r\\n\\r\\nusing senses I feel that in court\\r\\n\\r\\nverdict there'll be a winner and a loser\\r\\n\\r\\nif we should not have any losers we\\r\\n\\r\\nshould all have winners and I say never\\r\\n\\r\\ngive up I am aware that this is rather\\r\\n\\r\\nlate in the day but still we have never\\r\\n\\r\\ngiven up and we feel that an\\r\\n\\r\\nout-of-court settlement would be the\\r\\n\\r\\nbest for the country for the amateur of\\r\\n\\r\\nthe country amateur amatory of the\\r\\n\\r\\ncountry and for increasing the muslim\\r\\n\\r\\nhindu brother mm-hmm\\r\\n\\r\\nnow a left little char there are reports\\r\\n\\r\\ncoming in that the mediation panel\\r\\n\\r\\nreport has been submitted and one one of\\r\\n\\r\\nthe points that is being spoken about\\r\\n\\r\\nand this is by way of sources is that\\r\\n\\r\\nthe Sunni wok board will not have any\\r\\n\\r\\nobjection in handing over or allowing\\r\\n\\r\\nthe government to acquire the site do\\r\\n\\r\\nyou see this as some sort of a\\r\\n\\r\\nbreakthrough however there is a rider\\r\\n\\r\\nnot all stake holders agreed to this\\r\\n\\r\\nsolution well suddenly this offer is\\r\\n\\r\\nvery sensible but what you have not\\r\\n\\r\\nmentioned is the riders that too\\r\\n\\r\\nimportant riders are firstly there\\r\\n\\r\\nshould be no repeat of what happened in\\r\\n\\r\\nour there the Muslims want caste and\\r\\n\\r\\nguarantees that this will never happen\\r\\n\\r\\nagain\\r\\n\\r\\nand secondly what we want is the teeth\\r\\n\\r\\nshould be given to the the preservation\\r\\n\\r\\nof mooses of places of worship Act the\\r\\n\\r\\nAmendment Act 1991 I think it does not\\r\\n\\r\\nhave teeth enough it is a very weak law\\r\\n\\r\\nand anybody can violate it with impunity\\r\\n\\r\\nso we want it to become more stringent I\\r\\n\\r\\nthink in case these two things are met\\r\\n\\r\\nthe Muslim Personal Law or the\\r\\n\\r\\n[Music]\\r\\n\\r\\nthe people who have agreed to hand over\\r\\n\\r\\nthe land are well within their rights\\r\\n\\r\\nthat is the son he was born now let me I\\r\\n\\r\\nwill share your own suggestion that the\\r\\n\\r\\nland be gifted for the construction of a\\r\\n\\r\\ntemple to the majority community has\\r\\n\\r\\nbeen greeted with a lot of skepticism\\r\\n\\r\\nparticularly by stakeholders in the\\r\\n\\r\\nMuslim side were you expecting this and\\r\\n\\r\\ndo you feel that this will this will\\r\\n\\r\\nonly go ahead and create animosity and\\r\\n\\r\\nnot find a an amicable solution I was\\r\\n\\r\\nexpecting a backlash I have received a\\r\\n\\r\\nlot of messages saying that what I am\\r\\n\\r\\nwrong but what they don't know is that\\r\\n\\r\\n10 times more I have received messages\\r\\n\\r\\nof support from a wide cross-section of\\r\\n\\r\\nMuslims who do not want to come out\\r\\n\\r\\nopenly but they have sent me messages\\r\\n\\r\\nsaying that the stand we have taken for\\r\\n\\r\\na compromise for Amity for peace in the\\r\\n\\r\\ncountry is absolutely correct\\r\\n\\r\\nwell the Muslim stakeholders left and\\r\\n\\r\\ngeneral Shah say that mediation cannot\\r\\n\\r\\nmean that we give up our claim how would\\r\\n\\r\\nyou respond to that because the feeling\\r\\n\\r\\nis that they're giving up they're giving\\r\\n\\r\\nup the fight no we are not giving up the\\r\\n\\r\\nfight we are adopting a sensible\\r\\n\\r\\napproach giving up a fight is in case\\r\\n\\r\\nyou win and then are not able to\\r\\n\\r\\nreconstruct the mosque which I have told\\r\\n\\r\\nthem is an impossibility that would be\\r\\n\\r\\ngiving up that would be surrender after\\r\\n\\r\\nwinning surrender before a court verdict\\r\\n\\r\\nif we reach an agreement it is not\\r\\n\\r\\ngiving up the fight it is just a move\\r\\n\\r\\ntowards peace and Amity all right life\\r\\n\\r\\nin general siya my final question to you\\r\\n\\r\\nbefore I let you go there are in fact\\r\\n\\r\\nmamas that usually when people try\\r\\n\\r\\nmediating and try offering solutions\\r\\n\\r\\nperhaps and more so in a case like this\\r\\n\\r\\nthey may be doing it out of some\\r\\n\\r\\ninterest political interests if\\r\\n\\r\\nyou were particularly in this case have\\r\\n\\r\\nyou ever been pressurized or told to say\\r\\n\\r\\nwhat you do or the suggestion that you\\r\\n\\r\\ngave by a particular political party our\\r\\n\\r\\npolitical interests let me tell let let\\r\\n\\r\\nme make it clear I have never been\\r\\n\\r\\npressurized right during my service of\\r\\n\\r\\n40 years in the Army and also when I was\\r\\n\\r\\nvice-chancellor of a legal Muslim\\r\\n\\r\\nUniversity because people know me well\\r\\n\\r\\nenough I will not I repeat never and not\\r\\n\\r\\never succumb to pressure\\r\\n\\r\\nalright let's deep dive into a\\r\\n\\r\\ndiscussion now on what are the\\r\\n\\r\\npossibilities no we are not going to\\r\\n\\r\\ndiscuss what the verdict is going to be\\r\\n\\r\\nthat is going to be decided by the court\\r\\n\\r\\nbut its political impact what does this\\r\\n\\r\\nmean for the stakeholders Karthik Chopra\\r\\n\\r\\nis the spokesperson of the Nimmo he\\r\\n\\r\\nacara he's with us sqr Ilias is the\\r\\n\\r\\nadvocate and member of the Muslim\\r\\n\\r\\nPersonal Law Board he's also with us mr.\\r\\n\\r\\nZafar sorry shuara the former Chancellor\\r\\n\\r\\nof the Maulana Azad National hoodoo\\r\\n\\r\\nUniversity will also join us in just a\\r\\n\\r\\nshort moment thank you all of you all\\r\\n\\r\\nladies and gentlemen for being a part of\\r\\n\\r\\nthis discussion let me begin with you\\r\\n\\r\\nKarthik now you've seen that suggestions\\r\\n\\r\\nare being made Karthik on a number of\\r\\n\\r\\noccasions of course there is deep\\r\\n\\r\\ndivision within the Muslim Personal Law\\r\\n\\r\\nBoard beg your pardon the Sunni central\\r\\n\\r\\nwok Board where there are reports and\\r\\n\\r\\nsuggestions that they will not have a\\r\\n\\r\\nproblem if the land is acquired by the\\r\\n\\r\\ngovernment to a point where there are\\r\\n\\r\\nother stakeholders were saying that\\r\\n\\r\\nabsolutely we will have a problem we\\r\\n\\r\\nwill we will continue to wait for the\\r\\n\\r\\ncourt's verdict at a time like this my\\r\\n\\r\\nfundamental question and I'll ask this\\r\\n\\r\\nto of necessarily us also do you think\\r\\n\\r\\nmediation could have avoided this\\r\\n\\r\\nproblem I mean right now with a court\\r\\n\\r\\nverdict as left in general Zameer Uddin\\r\\n\\r\\nShah said there will be a victor and\\r\\n\\r\\nthere will be a loser a mediation would\\r\\n\\r\\nhave ensured an amicable solution as far\\r\\n\\r\\nas far as our akhada is concerned we\\r\\n\\r\\nparticipated in the first round of\\r\\n\\r\\nmediation because we had hoped to have\\r\\n\\r\\ndirect discussions with the sunni\\r\\n\\r\\ncentral work pod which is the other\\r\\n\\r\\ncontesting title that did not happen and\\r\\n\\r\\nwas reported by our lawyers to the\\r\\n\\r\\nHonorable Court as well thereafter in\\r\\n\\r\\nthe second round of mediation of punches\\r\\n\\r\\ndecided that we will not be\\r\\n\\r\\nparticipating because we are already\\r\\n\\r\\ninvolved in the hearings in the\\r\\n\\r\\nHonorable Supreme Court and till we\\r\\n\\r\\npresent our full hearings and are able\\r\\n\\r\\nto present our case in full we are not\\r\\n\\r\\ngoing to take any alternative stand at\\r\\n\\r\\nany other location as far as all these\\r\\n\\r\\nMuslim organizations are concerned who\\r\\n\\r\\nare offering to give up it's a very\\r\\n\\r\\nnoble thought if the sunni central worth\\r\\n\\r\\nwhat we have not been informed by them\\r\\n\\r\\nofficially or by anybody else\\r\\n\\r\\nif the sunni central wa court is willing\\r\\n\\r\\nto give up its suit in favor of nur\\r\\n\\r\\nmooyah cara we welcome that if not then\\r\\n\\r\\nwe will just wait for the Honorable\\r\\n\\r\\nSupreme Court to pass its judgement\\r\\n\\r\\nwhich will come within the next four\\r\\n\\r\\nweeks there after so many after such a\\r\\n\\r\\nmarathon hearing and so much of effort\\r\\n\\r\\nput in by the Honorable judges so much\\r\\n\\r\\nof time of the Honorable Supreme Court\\r\\n\\r\\nbeing taken over this issue at this\\r\\n\\r\\nstage they have come out with this\\r\\n\\r\\nproposal apparently and that also is a\\r\\n\\r\\ndivided house because half of them are\\r\\n\\r\\nsaying that we are against it correct\\r\\n\\r\\nhalf of them say we are for it\\r\\n\\r\\ntheir chairman has one view nobody has\\r\\n\\r\\nany view and if he gives up in favour of\\r\\n\\r\\nwho the moment you say we want to give\\r\\n\\r\\nup opens up another Pandora's box said\\r\\n\\r\\nwho will take possession acquisition\\r\\n\\r\\nBiden above you we we please go back no\\r\\n\\r\\nplease go back to that entire two point\\r\\n\\r\\nseven seven acres within that two point\\r\\n\\r\\nseven seven acres originally it was only\\r\\n\\r\\nthe inner so-called inner courtyard area\\r\\n\\r\\nwhich was in dispute which was attached\\r\\n\\r\\non five one 1950 the outer courtyard got\\r\\n\\r\\nattached later the remaining area got\\r\\n\\r\\nattached after the demolition of eleven\\r\\n\\r\\ntemples of the near Mui acara\\r\\n\\r\\nwhich were situated there including\\r\\n\\r\\nloves ones understand this was done\\r\\n\\r\\nduring Kalyan Singh government's time we\\r\\n\\r\\nchallenged this acquisition which was\\r\\n\\r\\ndone supposedly for public purposes\\r\\n\\r\\nalong with five other Muslim parties\\r\\n\\r\\nHigh Court and u P struck down this\\r\\n\\r\\nacquisition on the 11th of June or\\r\\n\\r\\nDecember 1992 later we have the smile\\r\\n\\r\\nFarooqi judgement and others which\\r\\n\\r\\nclearly say that whoever is the winning\\r\\n\\r\\nendowment out of these title suits which\\r\\n\\r\\nare ongoing in Supreme Court will be\\r\\n\\r\\nable to get back all its as much land as\\r\\n\\r\\nit requires to build whatever be its\\r\\n\\r\\nreligious structure now why should we\\r\\n\\r\\nagree to giving up that acquired land\\r\\n\\r\\nalready acara's\\r\\n\\r\\npunches are clearly directed when this\\r\\n\\r\\nin case of their final they're like this\\r\\n\\r\\nyear to give up the acquired land just a\\r\\n\\r\\nsecond just a second to give up the\\r\\n\\r\\nacquired land they had said that they up\\r\\n\\r\\nand hand over some of this land to\\r\\n\\r\\nanother organization our punches are\\r\\n\\r\\nopposed this and instructed our lawyers\\r\\n\\r\\nto please kindly file objection that is\\r\\n\\r\\nstill lying in the Honorable Court\\r\\n\\r\\ntherefore the whole issue is give up\\r\\n\\r\\ngive up in favor of who if you are going\\r\\n\\r\\nto give up to the near mooyah Cara we as\\r\\n\\r\\nthe shabbiest of Bhagwan Shree Ram Lala\\r\\n\\r\\nRaj man I'm very happy to accept your\\r\\n\\r\\ngiving up in our favor okay okay but had\\r\\n\\r\\nthat been the case then this matter I\\r\\n\\r\\nmean settled amicably in the past also\\r\\n\\r\\nit would not have reached the Supreme\\r\\n\\r\\nCourt mr. sqr Ilyas let me come to you\\r\\n\\r\\nnow so nice rental Bluff word is always\\r\\n\\r\\nwelcome to clarify what it has to say\\r\\n\\r\\nwho they want to go okay okay mr. mr.\\r\\n\\r\\nyes\\r\\n\\r\\nnow I'm only and only talking about this\\r\\n\\r\\nconfusion which has now come about\\r\\n\\r\\nparticularly as far as the Muslim\\r\\n\\r\\nstakeholders are concerned what do you\\r\\n\\r\\nmake of this There is obviously a sense\\r\\n\\r\\nof confusion now you know Sony\\r\\n\\r\\nsandalwood and Sony Central Board is not\\r\\n\\r\\none man body it tastes a comprising of\\r\\n\\r\\nseven to eight people's so it was not a\\r\\n\\r\\nunanimous decision and that - it has not\\r\\n\\r\\ncome before the Supreme Court so I\\r\\n\\r\\ncannot say anything about that because\\r\\n\\r\\nSony is a central vac board is their\\r\\n\\r\\nbody of seven to eight people if they\\r\\n\\r\\nwant to involve in negotiation or if\\r\\n\\r\\nthey want to surrender whatever they\\r\\n\\r\\nwant to do that has to be taken by the\\r\\n\\r\\nentire any work would and that should be\\r\\n\\r\\nRonnie with this Jen so you're saying it\\r\\n\\r\\nis means nothing so what board is not a\\r\\n\\r\\nyeah it is nothing it is nothing almost\\r\\n\\r\\nnothing but who don't you don't you\\r\\n\\r\\nworried that this will send out a very\\r\\n\\r\\nwrong message of deep division within\\r\\n\\r\\nyour own ranks that you don't speak on\\r\\n\\r\\nunison they don't have no effect on a\\r\\n\\r\\ndivision you know you know in this\\r\\n\\r\\nparticular case in this particular case\\r\\n\\r\\nthere are eight litigants from Muslim\\r\\n\\r\\nside Sony central what is one one of\\r\\n\\r\\nthem so Sony and secondly Sony said it\\r\\n\\r\\nis not the decision of the Sony Central\\r\\n\\r\\nBoard it is the decision of one person\\r\\n\\r\\nthat is chairman of the board I and that\\r\\n\\r\\n- where has the chair\\r\\n\\r\\nfor the Supreme Court so we cannot say\\r\\n\\r\\nanything these are some the okay\\r\\n\\r\\nwhatever the case these are the rumors\\r\\n\\r\\nso he has not confirmed that he has said\\r\\n\\r\\nthat thing\\r\\n\\r\\nno no whatever you say yes you're saying\\r\\n\\r\\nthat he's the chairman and on the other\\r\\n\\r\\nhand you are saying these are rumors can\\r\\n\\r\\nyou please clarify as of this moment I\\r\\n\\r\\nhope you realize that this is a very\\r\\n\\r\\nserious case when you when you when you\\r\\n\\r\\nrelegate this all right all right\\r\\n\\r\\nwhen you verify and say that these are\\r\\n\\r\\nyou know from the Chairman no less the\\r\\n\\r\\nChairman can you clarify what is your\\r\\n\\r\\nofficial position listen to me yes yes\\r\\n\\r\\nreally nothing has been communications\\r\\n\\r\\nof the morning buddy has community\\r\\n\\r\\ncoming up this is coming out in the\\r\\n\\r\\nchannels that mr. Lockwood is\\r\\n\\r\\nwithdrawing the case but such such type\\r\\n\\r\\nof thing has not come before the court\\r\\n\\r\\ntoday so how can so unless it has not\\r\\n\\r\\ncome before the court how can we say it\\r\\n\\r\\ncan be reversed\\r\\n\\r\\nunless it is played before the court and\\r\\n\\r\\ncourt have would have received this that\\r\\n\\r\\nSony Central from World War okay as of\\r\\n\\r\\nthis morning this is like this moment so\\r\\n\\r\\nlisten as some sort of a this this will\\r\\n\\r\\nbe seen as deep division in your ranks\\r\\n\\r\\nthis will be seen mr. Ilias as nothing\\r\\n\\r\\nbut deep division not a division at all\\r\\n\\r\\nit is not a division at all okay okay\\r\\n\\r\\nKarthik Chopra as well as mr. Elias I'm\\r\\n\\r\\ngoing to come back to you in just a\\r\\n\\r\\nshort moment let me now quickly come\\r\\n\\r\\nback to my guest in the studio the\\r\\n\\r\\npolitics of it right where they are we\\r\\n\\r\\ngoing to get into the legality in just a\\r\\n\\r\\nshort moment but first the politics of\\r\\n\\r\\nit Aarthi Jarrett they seen pune wala as\\r\\n\\r\\nwell as dr. Park do you feel that\\r\\n\\r\\nthere's this third dimension the third\\r\\n\\r\\nand one is one is the aspect of faith\\r\\n\\r\\nthe other is the aspect of legality and\\r\\n\\r\\nthe third is the aspect of politics do\\r\\n\\r\\nyou think it's this third aspect which\\r\\n\\r\\nwill have its bearing or its impact post\\r\\n\\r\\nthe 17th of November whenever this\\r\\n\\r\\nverdict comes out particularly for a\\r\\n\\r\\nparty like the Bharatiya janta party you\\r\\n\\r\\nknow the party tanta party has made this\\r\\n\\r\\ninto their issue since 1986 following\\r\\n\\r\\nthe pollen poor resolution and it has\\r\\n\\r\\nincluded the construction or\\r\\n\\r\\nRam temple in ayutthaya in every\\r\\n\\r\\nmanifesto since 1989 so it is very\\r\\n\\r\\nclearly although they claim it's a\\r\\n\\r\\nmatter of faith\\r\\n\\r\\nbut it really goes beyond faith it is\\r\\n\\r\\nreally a political issue the rise of the\\r\\n\\r\\nBJP can be attributed to the fact that\\r\\n\\r\\nthey picked up this issue and made it\\r\\n\\r\\ninto their main flank from 1989 onwards\\r\\n\\r\\nif you remember if you go back to the\\r\\n\\r\\nhistory of the junsang you know the the\\r\\n\\r\\nrevocation of article 370 was their core\\r\\n\\r\\nissue but they never ever became a big\\r\\n\\r\\nparty in all those years using this\\r\\n\\r\\nissue it was only when the BJP picked\\r\\n\\r\\naplomb Monday that the BJP is rise\\r\\n\\r\\nactually started so it is very much a\\r\\n\\r\\npolitical issue and I would like to go\\r\\n\\r\\nback to what the prime minister said in\\r\\n\\r\\nan interview just before the elections\\r\\n\\r\\nwhere he was asked this question on the\\r\\n\\r\\nRam temple and he was asked about the\\r\\n\\r\\ndemands from the RSS that they should\\r\\n\\r\\nbring in a law to build a ram temple and\\r\\n\\r\\nhe said very clearly that he will wait\\r\\n\\r\\nfor the judicial process to be over and\\r\\n\\r\\nafter that the government will do what\\r\\n\\r\\nit thinks necessary or what it deems\\r\\n\\r\\nthink and to my mind I mean if I read\\r\\n\\r\\nbetween the lines I think he was keeping\\r\\n\\r\\nthe window open - so let the Court\\r\\n\\r\\ndecide what they have and then there'll\\r\\n\\r\\nbe a food will be a political decision\\r\\n\\r\\nand the government will be very much\\r\\n\\r\\nwithin its right to in any case the land\\r\\n\\r\\nis with the government the government\\r\\n\\r\\nacquired during near Samarra oust any on\\r\\n\\r\\nthe land is with the government and the\\r\\n\\r\\ngovernment can then pass a law to build\\r\\n\\r\\na temple which is I think what the BJP\\r\\n\\r\\nwould like to do it is a long-held\\r\\n\\r\\npromise and they would like to fulfill\\r\\n\\r\\nit like their fulfilled article 370 they\\r\\n\\r\\ndo another one okay now that one of the\\r\\n\\r\\ncore is there is happy everybody got a\\r\\n\\r\\nbox provided there is whatever the world\\r\\n\\r\\nwhatever the verdict okay they are going\\r\\n\\r\\nto get into the what the verdict is\\r\\n\\r\\ngoing exactly I don't know what the\\r\\n\\r\\nverdict is but I think that as far as a\\r\\n\\r\\ngovernment is concerned it would be\\r\\n\\r\\nwithin I mean I think mr. Veda nothing\\r\\n\\r\\ncan correct me if I'm wrong but it would\\r\\n\\r\\nbe within the government's purview to\\r\\n\\r\\nyou know sort of since it has aligned\\r\\n\\r\\nwith with it it can just reiterate the\\r\\n\\r\\nacquisition and then you know pass a law\\r\\n\\r\\nto build a temple okay desi\\r\\n\\r\\nyou know I honestly don't know where to\\r\\n\\r\\nbegin and where to end so let's get a\\r\\n\\r\\ncouple of things I mean I'll start from\\r\\n\\r\\never Artie ended with the Honorable\\r\\n\\r\\nPrime Minister's interview what the\\r\\n\\r\\nHonorable Prime Minister therefore is\\r\\n\\r\\nsaying is the same man who wax eloquent\\r\\n\\r\\nabout the of the majesty of the\\r\\n\\r\\nHonorable Supreme Court has basically no\\r\\n\\r\\nrespect for the Honorable Supreme Court\\r\\n\\r\\nshould the judgment go against what is\\r\\n\\r\\nthe promise of the BJP\\r\\n\\r\\nhe will then bring in a law to build a\\r\\n\\r\\ntemple so his way or no way there is no\\r\\n\\r\\neven kneeling and I put very literally\\r\\n\\r\\nmake my point\\r\\n\\r\\nnow obviously the BJP s rise has been\\r\\n\\r\\nmeteoric because of the ramen there so\\r\\n\\r\\ndeathcap Rahm Jean attempt in in a tent\\r\\n\\r\\nand that's been them a Tory Christ but\\r\\n\\r\\nthe larger point has been this now I\\r\\n\\r\\nwant all your viewers to bear with me\\r\\n\\r\\nlet us imagine a hypothetical situation\\r\\n\\r\\nwhere a chief minister in this case\\r\\n\\r\\nKalyan Singh with a BJP chief minister\\r\\n\\r\\npromises the Honorable Supreme Court\\r\\n\\r\\nthat a temple and using the word temple\\r\\n\\r\\nwill not be broken down a mob then\\r\\n\\r\\ndescends breaks down the temple would\\r\\n\\r\\nthat mop today be in power no justice\\r\\n\\r\\nhas been delivered I am NOT getting in a\\r\\n\\r\\ndispute whether this was a mosque or\\r\\n\\r\\nwhat was it up structure was this was\\r\\n\\r\\nbroken down that matter may be a\\r\\n\\r\\ncriminal matter happening day to day no\\r\\n\\r\\njustice has been served those people\\r\\n\\r\\nhave continued to be in power would that\\r\\n\\r\\nhappen with the Muslims no my entire\\r\\n\\r\\nconstitutional rights were taken away\\r\\n\\r\\npoint number two now let's come to what\\r\\n\\r\\nRT says the Prime Minister says look if\\r\\n\\r\\nnothing happens we can then bring in the\\r\\n\\r\\nlaw it's happened with some I mean I\\r\\n\\r\\nmean I mean between the lines I mean\\r\\n\\r\\nreally between the lines now that's in\\r\\n\\r\\nSabri mala we've had none less than the\\r\\n\\r\\nBJP president taking a completely\\r\\n\\r\\ndifferent stand on the Supreme Court now\\r\\n\\r\\nlet's come to the point this is not just\\r\\n\\r\\na Hindu Muslim dispute legally this\\r\\n\\r\\ndispute is also a Hindu Hindu dispute\\r\\n\\r\\nbetween the male moyer color which\\r\\n\\r\\nKarthik represents and Ramallah which\\r\\n\\r\\nhas been represented starting with\\r\\n\\r\\nAgarwal and other people who claim Allah\\r\\n\\r\\nAllah is ours only we are I agree with\\r\\n\\r\\nthat I agree so there is a claim to be\\r\\n\\r\\nmade innocent mr. Vaidhyanathan and mr.\\r\\n\\r\\npresident I have claimed otherwise but I\\r\\n\\r\\nagree that you've also made that claim\\r\\n\\r\\nthat you all are the original\\r\\n\\r\\nrepresentatives of ROM Lala so there is\\r\\n\\r\\nthat dispute as well which is why even\\r\\n\\r\\nthey shouldn't be a threeway division\\r\\n\\r\\nwhy is this continuously being portrayed\\r\\n\\r\\nas a Hindu Muslim and Karthik is right I\\r\\n\\r\\nagree with Karthik a if the Sunni\\r\\n\\r\\nbuckboard gives up the land in favor of\\r\\n\\r\\nwhom nirakara or Ramallah in favor of\\r\\n\\r\\nwhom who's there who's what is this this\\r\\n\\r\\nis a civil dispute in my opinion and\\r\\n\\r\\nthere's a criminal act that was involved\\r\\n\\r\\nin the structure is when will justice\\r\\n\\r\\nwould that happen okay when we get\\r\\n\\r\\njustice okay okay okay doctor but before\\r\\n\\r\\nI get into the legal aspect my question\\r\\n\\r\\nto you is the party Janata party's\\r\\n\\r\\npromise in its manifesto and the\\r\\n\\r\\nlanguage which changed periodically\\r\\n\\r\\nright I want to know from you your\\r\\n\\r\\nassessment if you allow me very briefly\\r\\n\\r\\nI want to read out since 1996 how the\\r\\n\\r\\nwording on ROM temple promise changed\\r\\n\\r\\nfor the BJP so in 1996 in their\\r\\n\\r\\nmanifesto they said that there will be a\\r\\n\\r\\nmagnificent Ram temple at the gemston an\\r\\n\\r\\nidea on coming to power as this is the\\r\\n\\r\\ndream that moves millions of people in\\r\\n\\r\\nour land in 1998 the BJP is manifesto\\r\\n\\r\\nsays the BJP will explore a new word\\r\\n\\r\\nadded all consensual legal and\\r\\n\\r\\nconstitutional means to facilitate the\\r\\n\\r\\nconstruction right then in 2004 it says\\r\\n\\r\\nBJP reaffirms its commitment to the\\r\\n\\r\\nconstruction of round temples no promise\\r\\n\\r\\nno extra objectives nothing again in\\r\\n\\r\\n2009 the BJP says it will explore all\\r\\n\\r\\npossibilities including negotiations and\\r\\n\\r\\njudicial proceedings to facilitate the\\r\\n\\r\\nconstruction of the Ram temple in 2014\\r\\n\\r\\nthey say that they reiterate their stand\\r\\n\\r\\nto explore all possibilities within the\\r\\n\\r\\nframework of the Constitution to\\r\\n\\r\\nfacilitate the construction of the Ram\\r\\n\\r\\ntemple a language they retain in their\\r\\n\\r\\n2019 manifesto as well do you think that\\r\\n\\r\\nthere was an attempt by the Bharatiya\\r\\n\\r\\nJanata Party to initially sell this as\\r\\n\\r\\ntheir big poll plank then later\\r\\n\\r\\nrealizing that maybe this issue is not\\r\\n\\r\\nworking out and as you see it's slowly\\r\\n\\r\\nevaporating from the manifesto and then\\r\\n\\r\\nit coming back with all the legal you\\r\\n\\r\\nknow adjectives that have been put in\\r\\n\\r\\nthe manifesto\\r\\n\\r\\nsongket - to begin with first since you\\r\\n\\r\\nyou put it for that we are not going in\\r\\n\\r\\nto go we are not going to go into what\\r\\n\\r\\nwould be the judgment right so what I am\\r\\n\\r\\nsaying is that they were the the other\\r\\n\\r\\npanelists actually came forward with\\r\\n\\r\\nthis hypothesis if this happens then\\r\\n\\r\\nthis what is going to be the result so\\r\\n\\r\\nI'm not going to go into that and the\\r\\n\\r\\nfact remains that you know while it has\\r\\n\\r\\nbeen a long wait of 500 years and it\\r\\n\\r\\nseems that now somehow the you know the\\r\\n\\r\\nIndian society and Indian people they\\r\\n\\r\\nhave reached that stage of vindication\\r\\n\\r\\nwhile this closing of the hearing of the\\r\\n\\r\\none of the longest-running cases has\\r\\n\\r\\ntaken place the fact remains that there\\r\\n\\r\\nis first of all it is the you know\\r\\n\\r\\ncultural ethos of of this nation which\\r\\n\\r\\nwe which have been which have been stood\\r\\n\\r\\nto the or which have been standing\\r\\n\\r\\nthrough this judicial interrogation all\\r\\n\\r\\nthis while and one political party any\\r\\n\\r\\nXYZ one political party it stands along\\r\\n\\r\\nwith it along with it reinstating of the\\r\\n\\r\\nculture because when we talk about the\\r\\n\\r\\nit is not just about faith it is also\\r\\n\\r\\nabout reinstating our Indian heritage\\r\\n\\r\\nand Indian culture that is one of the\\r\\n\\r\\nseminal comment has given this affidavit\\r\\n\\r\\nit was right but now the fact is if is\\r\\n\\r\\ntalk about ordinances Parliament or know\\r\\n\\r\\nwhat I mean this discussion that I can\\r\\n\\r\\ncomplete my argument\\r\\n\\r\\nI wanna speak please let me complete\\r\\n\\r\\nvery quickly please let me know you're\\r\\n\\r\\nnot letting me I'm freaking on facts but\\r\\n\\r\\nyou were speaking with hypothesis the\\r\\n\\r\\npoint is that while all this the fact\\r\\n\\r\\nremains is that whatever arguments have\\r\\n\\r\\ntaken place in the court in the last 40\\r\\n\\r\\ndays the you know the Muslim side\\r\\n\\r\\narguments have been very very weak and\\r\\n\\r\\nyou complete meltdown took place today\\r\\n\\r\\nthe way we saw we are very esteemed\\r\\n\\r\\nso-called esteemed lawyer it was\\r\\n\\r\\nappalling to see someone tearing off\\r\\n\\r\\njust because they felt that their\\r\\n\\r\\narguments are not going their way now\\r\\n\\r\\nthe point is that what is important here\\r\\n\\r\\nnobody talked about what the realities\\r\\n\\r\\nconclude yeah my conclusion is let's go\\r\\n\\r\\nback to one political party which stands\\r\\n\\r\\nwith the temple and there were many\\r\\n\\r\\nothers who stood against the temple but\\r\\n\\r\\nthe fact remains that who the Indian\\r\\n\\r\\npeople okay the Indian society what they\\r\\n\\r\\nwant okay so I I'm going to quickly come\\r\\n\\r\\nback to which political party stands\\r\\n\\r\\nwhere and which political party as of\\r\\n\\r\\nthis moment has declared mum as the word\\r\\n\\r\\nbecause because they're once bitten\\r\\n\\r\\ntwice shy with article 370 and the\\r\\n\\r\\nposition that they've taken\\r\\n\\r\\nI lost their scene also this question\\r\\n\\r\\nwhere they let me now come to you forty\\r\\n\\r\\nlong days right I remember in the\\r\\n\\r\\nevening I asked you a question\\r\\n\\r\\nit took more than a year for just the\\r\\n\\r\\ndocuments to be translated into English\\r\\n\\r\\nwhen this matter came to the Supreme\\r\\n\\r\\nCourt if you can just Chronicle for us\\r\\n\\r\\nstuff that people need to know about why\\r\\n\\r\\nthis case is legally so important not\\r\\n\\r\\njust for the courts but for everyone\\r\\n\\r\\nyou see if it's a property dispute in\\r\\n\\r\\nsome other case he totally over within a\\r\\n\\r\\nweek it's just a property there is no\\r\\n\\r\\nlegal I mean constitution bench to sit\\r\\n\\r\\nin to interpret some sort of laws it's\\r\\n\\r\\nnothing like that\\r\\n\\r\\nsince it's as you said politics emotion\\r\\n\\r\\nfaith everything is in also court said\\r\\n\\r\\nlet's see initially people tried\\r\\n\\r\\nobject to it you may recall a couple\\r\\n\\r\\nSybil saying when before the election he\\r\\n\\r\\nsaid have it on 2019 sweet so now\\r\\n\\r\\nfinally 40 long days sweet Chief\\r\\n\\r\\nJustice's very strict person he never\\r\\n\\r\\nallows to give some nonsense in\\r\\n\\r\\nstatements or Nestle wasting the time he\\r\\n\\r\\nkept quiet and all the judges in the\\r\\n\\r\\nbench also kept quiet because it's a\\r\\n\\r\\nvery sensitive issue\\r\\n\\r\\nsuppose if you stop someone then another\\r\\n\\r\\nperson will say in fact dr. Rajiv Dhawan\\r\\n\\r\\nday for yesterday cold the judge is\\r\\n\\r\\nsaying that you are asking only a\\r\\n\\r\\nquestion to Muslim parties by not Hindus\\r\\n\\r\\nso yesterday Chief Justice pacified Evan\\r\\n\\r\\nsaying that are we right we are asking\\r\\n\\r\\nquestions to Hindu side also so this is\\r\\n\\r\\nvery sensitive so it has to be handled\\r\\n\\r\\nvery carefully so that's why if you are\\r\\n\\r\\nknown today so lot of things went on be\\r\\n\\r\\ntoday being the climax just like a film\\r\\n\\r\\nfortieth day so huge crowd in the court\\r\\n\\r\\nand in one of the mean see acrimony\\r\\n\\r\\nheated exchanges even dr. Thurman and\\r\\n\\r\\nwent on tearing some map of a book\\r\\n\\r\\nwhat's the factual position on the\\r\\n\\r\\ntearing of the map see factual pushes to\\r\\n\\r\\nthe map torn or not yes city of stone\\r\\n\\r\\nwas torn it was tall till you see see we\\r\\n\\r\\ncan sing appeared for Indo Maha Sabha no\\r\\n\\r\\nequal to the book and the one was saying\\r\\n\\r\\nthat this is not on record please don't\\r\\n\\r\\ntake it but because Singh said T is not\\r\\n\\r\\nkoti is only showing the map then Devin\\r\\n\\r\\nobjected to it then he said I will tear\\r\\n\\r\\nit off Chief Justice said doctor the one\\r\\n\\r\\nyou can go ahead and tear it off so he\\r\\n\\r\\ntold off then after that what happened\\r\\n\\r\\nso this news went viral in the post line\\r\\n\\r\\nsession diamond came back and said the\\r\\n\\r\\ntold Chief Justice saying that this is\\r\\n\\r\\nnews going on virally and one of the\\r\\n\\r\\njudges also said in the lunchtime they\\r\\n\\r\\nalso saw it on TV so Chief Justice said\\r\\n\\r\\nyou can issue a clarification saying the\\r\\n\\r\\nChief Justice only set it with this\\r\\n\\r\\npermission you tore expose what he wants\\r\\n\\r\\nany 1xb\\r\\n\\r\\none to us but I went to point a point of\\r\\n\\r\\nlegality over here whether I want to\\r\\n\\r\\nknow and I think this will be of\\r\\n\\r\\ninterest to a lot of people in this\\r\\n\\r\\ncountry the Supreme Court has given\\r\\n\\r\\nthree days for people to put forward\\r\\n\\r\\ntheir arguments or their version of what\\r\\n\\r\\nthey feel will be relieved this method\\r\\n\\r\\nor this process is called molding of\\r\\n\\r\\nrelief for the benefit of our viewers if\\r\\n\\r\\nyou could tell us and educate us what\\r\\n\\r\\ndoes this mean to make it simple yeah\\r\\n\\r\\nsuppose there is a compensation to be\\r\\n\\r\\npaid in any accident case first of all\\r\\n\\r\\ndoes this happen in all cases almost\\r\\n\\r\\nokay so in civil cases in civil case\\r\\n\\r\\nokay so what I'm supposed there is an\\r\\n\\r\\nexcellent compensation has to be paid\\r\\n\\r\\nboth parties are that the person who has\\r\\n\\r\\nto pay you will say I will pay 10 lakhs\\r\\n\\r\\nthen she judge may ask what's were view\\r\\n\\r\\nhe may say no no maybe 15 lakhs so they\\r\\n\\r\\nwill say they will give their opening\\r\\n\\r\\nwhat to do then finally Court will\\r\\n\\r\\ndecide on Aman this is this is before\\r\\n\\r\\nwriting the judgment so normally every\\r\\n\\r\\njudge will want to move\\r\\n\\r\\nwhat sort of relief they want so that it\\r\\n\\r\\ncan be reflected in the judgement so\\r\\n\\r\\nthis is the same thing they've asked but\\r\\n\\r\\ninterestingly so all parties they want\\r\\n\\r\\ntheir own portion 1 there will be given\\r\\n\\r\\nto each all the 3 parts to be given to\\r\\n\\r\\nthem so that's why imitation failed yeah\\r\\n\\r\\nso what sort of relief they will yeah\\r\\n\\r\\ncan be I mean there's you know molding\\r\\n\\r\\nforget about Zakir can this one evoke\\r\\n\\r\\nmore say no no we will take only\\r\\n\\r\\none-third we can say ok ok so the the\\r\\n\\r\\nthe litigants now the stakeholders now\\r\\n\\r\\nKarthik do you feel do you feel that\\r\\n\\r\\nthat mediation molding of relief mr.\\r\\n\\r\\nIlias this question is to you also\\r\\n\\r\\nKarthik first moulding of relief you\\r\\n\\r\\nknow do you see all tools I mean after\\r\\n\\r\\nthis every possible tool legal tool in\\r\\n\\r\\nthis country would have been exploited\\r\\n\\r\\nwould have been used do you feel that a\\r\\n\\r\\nchance should be given in the moulding\\r\\n\\r\\nof relief to work out a formula to work\\r\\n\\r\\nout to see the mold a more we as we are\\r\\n\\r\\nstill working we are still working out\\r\\n\\r\\nwith our lawyers what will be the\\r\\n\\r\\nmoulding of relief what is it that we\\r\\n\\r\\nwill present to the hall your thinking\\r\\n\\r\\non those as far as mediation concerned I\\r\\n\\r\\nam still as far as mediation is\\r\\n\\r\\nconcerned I am still\\r\\n\\r\\none thing that we have never ever had\\r\\n\\r\\ndirect discussions with the Sunni work\\r\\n\\r\\nmore face-to-face so that is that is\\r\\n\\r\\nwhat our punches said about mediation\\r\\n\\r\\nthat never happened\\r\\n\\r\\nwhere we had a one-on-one with them to\\r\\n\\r\\nunderstand what they wanted to do know\\r\\n\\r\\nwhat's stopping you\\r\\n\\r\\nyou can meet they have always welcomed\\r\\n\\r\\nthem to come but they don't want to\\r\\n\\r\\nthey're there we have always we are\\r\\n\\r\\nalways ready to meet them it's an open\\r\\n\\r\\ninvitation to them to have a direct\\r\\n\\r\\ndiscussion with them at any time but see\\r\\n\\r\\nyou later the day buddy has been really\\r\\n\\r\\nAsian for the second time our people no\\r\\n\\r\\nno we have we have mentioned this from\\r\\n\\r\\nthe beginning not late in the day since\\r\\n\\r\\nthe beginning\\r\\n\\r\\nno I'm saying now it's late in the day\\r\\n\\r\\nbut missed a chance 19 2010 no no no\\r\\n\\r\\nbefore the judgement is High Court in\\r\\n\\r\\n2010 in writing we said the original two\\r\\n\\r\\ncontesting parties near Maria Cara and\\r\\n\\r\\nSUNY central what Watkins can have a\\r\\n\\r\\ndiscussion well how nice this was man\\r\\n\\r\\nand instantly the Honorable Chief\\r\\n\\r\\nJustice Bharucha at that time mr. leas\\r\\n\\r\\nhow nice would that have been where the\\r\\n\\r\\ntwo stakeholders would have met face to\\r\\n\\r\\nface with no intermediary and solve this\\r\\n\\r\\nyes yes yes we have to make it some\\r\\n\\r\\nutopia also only why this never happened\\r\\n\\r\\nbecause the mediation committee did not\\r\\n\\r\\ndo that\\r\\n\\r\\nthey met individually they did not bring\\r\\n\\r\\nall the people together so it is it is\\r\\n\\r\\nit is the fault of the mediation\\r\\n\\r\\ncommittee not not us me we are demanding\\r\\n\\r\\nthat the the party should sit together\\r\\n\\r\\nand they should negotiate with each\\r\\n\\r\\nother in in presence of mediation\\r\\n\\r\\ncommittee but that has a knock but not\\r\\n\\r\\nnot happen and secondly as for the\\r\\n\\r\\nmorning of relieve is concerned exactly\\r\\n\\r\\nwe are also sitting with our lawyers and\\r\\n\\r\\nwe will try to come out with some\\r\\n\\r\\nsomething no no I want to know mr. yes\\r\\n\\r\\nthis movement that's all those who are\\r\\n\\r\\nwatching this broadcast miss alias can\\r\\n\\r\\nwe expect any molding for there to be\\r\\n\\r\\nrelief because right now with the way\\r\\n\\r\\nthe mediations they have all give it an\\r\\n\\r\\nouting to the honorable court within the\\r\\n\\r\\nnext three days I think we can wait till\\r\\n\\r\\nthen of course we can I'm not even\\r\\n\\r\\nasking you to reveal it on national\\r\\n\\r\\ntelevision because you're supposed to\\r\\n\\r\\ngive it to the court but it will just be\\r\\n\\r\\nan option that you\\r\\n\\r\\nwe will give it to the poor exercise\\r\\n\\r\\nokay okay fine I'm gonna leave it there\\r\\n\\r\\nI'm gonna leave it this let me let me\\r\\n\\r\\nknow if we come back - yeah you were\\r\\n\\r\\nsaying something mr. Lea's not only\\r\\n\\r\\nalright we will we will submit to the\\r\\n\\r\\ncourt within three days in shock okay\\r\\n\\r\\nokay uh weather yes tell me\\r\\n\\r\\nif tomorrow the government were to\\r\\n\\r\\nactually go ahead with this law\\r\\n\\r\\nyou know once all this is sorted out and\\r\\n\\r\\neverything what the Congress party\\r\\n\\r\\nopposed it with the Congress party\\r\\n\\r\\nopposed let's let's ask this question\\r\\n\\r\\nyou know I I mean listen who opened the\\r\\n\\r\\nlocks Rajiv Gandhi Rajiv Gandhi so you\\r\\n\\r\\nknow I mean actually this whole thing\\r\\n\\r\\nyou know began with the opening of the\\r\\n\\r\\nlocks of negativism\\r\\n\\r\\nnot a question of credit I'm just saying\\r\\n\\r\\nthat can that Congress party actually\\r\\n\\r\\nopposed this kind of a law I don't think\\r\\n\\r\\nit will it's been absolutely mum so far\\r\\n\\r\\nevery time Rajiv Rahul Gandhi was asked\\r\\n\\r\\nthis question during the election\\r\\n\\r\\ncampaign he did not okay\\r\\n\\r\\nthey seem they see now my point over\\r\\n\\r\\nhere is for a Congress party yes which\\r\\n\\r\\ntook a position on article 370 and had a\\r\\n\\r\\nsituation where half of your flock like\\r\\n\\r\\nall senior leaders apart from the family\\r\\n\\r\\nwas speaking in a totally different\\r\\n\\r\\nvoice I mean you have many leaders in\\r\\n\\r\\nHaryana many leaders in Maharashtra\\r\\n\\r\\npoll-bound states where they took a\\r\\n\\r\\ntotally different binary opposite line\\r\\n\\r\\ndo you fear that within the Congress\\r\\n\\r\\nparty do you think there is a fear that\\r\\n\\r\\nlet's keep quiet let's at least wait\\r\\n\\r\\ntill the verdict and even post verdict\\r\\n\\r\\nlet's keep quiet so because you will not\\r\\n\\r\\nbe able to form up your opinion I mean\\r\\n\\r\\nthe BJP is position we know starting\\r\\n\\r\\nthough you don't you know the BJP how I\\r\\n\\r\\nwill expose the BJP position wow you\\r\\n\\r\\nlook at their manifesto it's crystal\\r\\n\\r\\nclear what they want they want the\\r\\n\\r\\nconstruction over on temple what the BJP\\r\\n\\r\\nsays and what it does are two separate\\r\\n\\r\\nthings clearly on the show we just\\r\\n\\r\\nexpose one life so now let me start our\\r\\n\\r\\nteas right Rajiv Gandhi opened the locks\\r\\n\\r\\nnot just did he open the lock Rajiv\\r\\n\\r\\nGandhi two days before is there in a\\r\\n\\r\\nvery famous interview said it an it's on\\r\\n\\r\\nrecord then I wish for a ramen there to\\r\\n\\r\\nbe constructed in late again\\r\\n\\r\\nmaybe not tomorrow maybe not a baby\\r\\n\\r\\nnarsimha Rao even brought in an\\r\\n\\r\\nordinance which is blocked by the BGP\\r\\n\\r\\nnow come back to today now I'll tell you\\r\\n\\r\\nwhy the BGP doesn't want this to date as\\r\\n\\r\\nof today they don't want remise I'll\\r\\n\\r\\ntell you why with evidence because\\r\\n\\r\\nSingha who's the representing one Hindu\\r\\n\\r\\nPuck's not Carnegie but the Hindu\\r\\n\\r\\nMahasabha comes in with these so-called\\r\\n\\r\\nmaps why which is not on record only to\\r\\n\\r\\nDelhi because the argument would have\\r\\n\\r\\ngone further Subramanian Swamy comes in\\r\\n\\r\\nand I in a civic dispute where is an\\r\\n\\r\\nintervening application coming there is\\r\\n\\r\\na man a religious it's not been accepted\\r\\n\\r\\nnew revenue from our basket lot please\\r\\n\\r\\ndo not read kake news this is not a\\r\\n\\r\\npublic apology factually\\r\\n\\r\\nbrominium Swamy identity came in winter\\r\\n\\r\\nwhy is it so important today Subramanyam\\r\\n\\r\\nagain today Subramanyam Swami came in it\\r\\n\\r\\nwas not accepted now who also delayed\\r\\n\\r\\nnow to my last point at the end you have\\r\\n\\r\\nnot answered my question I'm coming too\\r\\n\\r\\nwhat is the Congress comes up and says\\r\\n\\r\\nlisten if the India okay you know the\\r\\n\\r\\ndecision to reopen that case should all\\r\\n\\r\\nlook forward that's a wise suggestion\\r\\n\\r\\nbecause you know while the weather while\\r\\n\\r\\nthe are\\r\\n\\r\\nhumans have concluded in the court\\r\\n\\r\\nclearly arguments have only just begun\\r\\n\\r\\nin something where the Honorable Court\\r\\n\\r\\nis going to deliver is right there where\\r\\n\\r\\nthere is telling us something very\\r\\n\\r\\nimportant we must look forward to that\\r\\n\\r\\nauthority Supreme Court yeah yeah\\r\\n\\r\\nKarthik I agree with you yeah yes\\r\\n\\r\\nwhether it's a National Broadcasting\\r\\n\\r\\nAuthority as he shouldn't advise it to\\r\\n\\r\\nall television channels how to conduct\\r\\n\\r\\ndebates don't instigate people and\\r\\n\\r\\nparticularly some panelists they may\\r\\n\\r\\nspeak out of the way\\r\\n\\r\\nit should not be done they've given\\r\\n\\r\\ncomplete those do's and don'ts I think\\r\\n\\r\\nit probably everything of course and and\\r\\n\\r\\nright here on NDTV this will be followed\\r\\n\\r\\nto the tea and I can I can assure each\\r\\n\\r\\nand every viewer where there very\\r\\n\\r\\nquickly I want to know that in terms of\\r\\n\\r\\nlegal options for the stakeholders I am\\r\\n\\r\\nNOT second-guessing the verdict I am NOT\\r\\n\\r\\nasking anyone to but I am saying that\\r\\n\\r\\nfrom here on what is the legal process\\r\\n\\r\\nin this country in terms of legal\\r\\n\\r\\noptions available for the stakeholders -\\r\\n\\r\\nKarthik rightly said we'll have to wait\\r\\n\\r\\nfor the judgement because all options\\r\\n\\r\\nwill open up once it is once the\\r\\n\\r\\njudgment is delivered once the judgment\\r\\n\\r\\ncomes so it's better not in the same way\\r\\n\\r\\nas the judgment of the al-abaad High\\r\\n\\r\\nCourt was a major stepping stone in this\\r\\n\\r\\ncase and a major achievement of moving\\r\\n\\r\\nahead after 100 and almost 25 years in\\r\\n\\r\\nthis case the Honorable Supreme Court's\\r\\n\\r\\njudgment hopefully will have a sense of\\r\\n\\r\\nfinality once and for all\\r\\n\\r\\nvery quickly dahab party over the\\r\\n\\r\\njudgment of 2010 will be finally\\r\\n\\r\\nresolved oh one interesting point is yes\\r\\n\\r\\nAlaba I quote dismissed\\r\\n\\r\\nnirakara as well as Sonia buckboard on\\r\\n\\r\\nbecause of time barred yes so despite\\r\\n\\r\\nthat they were divided into three parts\\r\\n\\r\\nso now they've come here it has been\\r\\n\\r\\nargued miss nothing that has been argued\\r\\n\\r\\nhere in Supreme Court it has been argued\\r\\n\\r\\nin the Supreme elements have been placed\\r\\n\\r\\nby our lawyers I don't want to get into\\r\\n\\r\\nthat debating arguments away no no no I\\r\\n\\r\\nam\\r\\n\\r\\nI am only saying it is interesting to\\r\\n\\r\\nnote what the judgment will be on these\\r\\n\\r\\ntwo points that will be very important\\r\\n\\r\\nokay well thank you all of you all\\r\\n\\r\\nladies and gentlemen for joining me on\\r\\n\\r\\nthis discussion in that respect as\\r\\n\\r\\nCheviot rights remain in okay time for\\r\\n\\r\\nthe benefit of our viewers see this is a\\r\\n\\r\\nvery complex issue so we are taking a\\r\\n\\r\\nbreak as of this moment where there has\\r\\n\\r\\nbeen very kind to us and the viewers of\\r\\n\\r\\nNDTV to explain this in an\\r\\n\\r\\neasy-to-understand format so that you\\r\\n\\r\\nknow what we are discussing and what is\\r\\n\\r\\nthis case all about that report will\\r\\n\\r\\ncome up next after a shortly the first\\r\\n\\r\\ncourt case in the Babri Ram Janmabhoomi\\r\\n\\r\\ndispute is at least 134 years old\\r\\n\\r\\ntoday the legal battles may have finally\\r\\n\\r\\nended on the 40th day of the hearing had\\r\\n\\r\\nmore than its fair share of drama on the\\r\\n\\r\\nlast day both sides Hindu and Muslim\\r\\n\\r\\npetitioners lawyers repeated the\\r\\n\\r\\narguments and demands the Hindu side\\r\\n\\r\\nargues that the disputed site is the\\r\\n\\r\\nbirthplace of Lord Rama and it can't be\\r\\n\\r\\nchanged\\r\\n\\r\\nMuslim petitioners say no temple existed\\r\\n\\r\\nat the site and Babri Masjid was built\\r\\n\\r\\non vacant land the mosque was demolished\\r\\n\\r\\nby a mob in 1992 arguments were marred\\r\\n\\r\\nby acrimony Rica's Singh the lawyer for\\r\\n\\r\\nthe Hindu Mahasabha\\r\\n\\r\\nwhich is the party but not a litigant in\\r\\n\\r\\nthe case coated a book on a yo Thea but\\r\\n\\r\\nthat was opposed by Raji the heaven\\r\\n\\r\\nlawyer for the Muslim parties Navin said\\r\\n\\r\\nthis book can't be relied upon by the\\r\\n\\r\\ncourt the casting replied he wanted only\\r\\n\\r\\nto show a map Navin said he wants to\\r\\n\\r\\ntear off the map to which the Chief\\r\\n\\r\\nJustice said you mr. Thurmond can do\\r\\n\\r\\nwhatever you want\\r\\n\\r\\nimmediately Deven tore the map there\\r\\n\\r\\nwere some interruptions by the advocates\\r\\n\\r\\nhas the tearing sound echoed in the\\r\\n\\r\\ncourtroom to this the Chief Justice said\\r\\n\\r\\ndecorum is not maintained in court and\\r\\n\\r\\nit's being spoiled if proceedings\\r\\n\\r\\ncontinue in this manner we will just get\\r\\n\\r\\nup and walk out after this warning the\\r\\n\\r\\nproceedings calm down this sensitive\\r\\n\\r\\nmatter of religion is not just a complex\\r\\n\\r\\nlegal case but also a politically very\\r\\n\\r\\ncontentious the iota of dispute centers\\r\\n\\r\\non two point seven seven acres of land\\r\\n\\r\\nbelieved to be the birthplace of Lord\\r\\n\\r\\nRama but Muslims say it was a mosque\\r\\n\\r\\nbuilt by the Mughal emperor babur the\\r\\n\\r\\nRaman their issue started becoming a\\r\\n\\r\\nmajor political issue in the 80s\\r\\n\\r\\nofficially making it to the agenda of\\r\\n\\r\\nthe BJP had its pollen poor convention\\r\\n\\r\\nin 1989 this was followed by since then\\r\\n\\r\\nthe party is vodka wiki article path\\r\\n\\r\\ncirca robertiello pony is mostly corona\\r\\n\\r\\nclipper food\\r\\n\\r\\nNepali under Gabbar sir cocky\\r\\n\\r\\nthe issue has a long legal journey as\\r\\n\\r\\nearly as 1885 das venema hunt approached\\r\\n\\r\\nthe local court to build a canopy\\r\\n\\r\\noutside the disputed structure but the\\r\\n\\r\\ncourt rejected it then in 1949 idols of\\r\\n\\r\\nROM Lala were controversially placed\\r\\n\\r\\nunder the central dome outside the\\r\\n\\r\\ndisputed structure 1950 onwards various\\r\\n\\r\\nsuits were filed by both Hindus and\\r\\n\\r\\nMuslims and it finally reached the\\r\\n\\r\\nAlabama Court on the 30th of September\\r\\n\\r\\n2010 The Alibi High Court in a\\r\\n\\r\\ntwo-to-one majority divided the disputed\\r\\n\\r\\n2.77 acres into three paths between the\\r\\n\\r\\nSunni walk thwart the near mahir Kara\\r\\n\\r\\nand the datee ROM Lala but all the three\\r\\n\\r\\nparties moved the Supreme Court against\\r\\n\\r\\nthe High Court verdict and in 2011 the\\r\\n\\r\\nSupreme Court stayed the High Court\\r\\n\\r\\njudgement finally this year of\\r\\n\\r\\nfive-judge bench headed by the Chief\\r\\n\\r\\nJustice of India just as Ranjan Gogoi\\r\\n\\r\\nbegan day to day hearings the Hindu\\r\\n\\r\\npetitioners say faith is the evidence\\r\\n\\r\\nLord Ram was born here the unshakable\\r\\n\\r\\nfaith of millions in Lord Rama\\r\\n\\r\\nitself is the proof that the disputed\\r\\n\\r\\nland is Ram Janmabhoomi no Muslim even\\r\\n\\r\\nattempted to enter it at least since\\r\\n\\r\\n1934 and Hindus continue to worship at\\r\\n\\r\\nthe disputed site from 1850 the\\r\\n\\r\\nstructure before the Babri Masjid was a\\r\\n\\r\\nHindu religious structure and it was\\r\\n\\r\\ndemolished and the mosque was built over\\r\\n\\r\\nit the Archaeological Survey report says\\r\\n\\r\\na non-islamic structure existed and the\\r\\n\\r\\nimages found at the pillars point to a\\r\\n\\r\\ntemple Muslims can pray in any other\\r\\n\\r\\nmosque as there are 55 to 60 mosques in\\r\\n\\r\\na Odia alone Hindus have fought for the\\r\\n\\r\\nplace believed to be the birthplace of\\r\\n\\r\\nLord Rama Hindu petitions also say for\\r\\n\\r\\nMuslims its historic mosque all mosque\\r\\n\\r\\nare equal for Muslims but for Hindus it\\r\\n\\r\\nis a birthplace of Lord Rama and Bert\\r\\n\\r\\nplace cannot be changed\\r\\n\\r\\nSupreme Court should undo the historical\\r\\n\\r\\nwrong of destruction of the temple in\\r\\n\\r\\nAyodhya to build a mosque Muslim\\r\\n\\r\\npetitioners countered the arguments they\\r\\n\\r\\ntold the top court there was no massive\\r\\n\\r\\nstructure at the site and no Hindu\\r\\n\\r\\nmotives just because there is a peacock\\r\\n\\r\\nor Lotus does not mean they're Hindu one\\r\\n\\r\\nview is that these institutions came\\r\\n\\r\\ninto existence during the Buddhist\\r\\n\\r\\nperiod but it's difficult to say when\\r\\n\\r\\nexactly idol worship started the\\r\\n\\r\\njudgment of the Olivar High Court is\\r\\n\\r\\nbased on conjectures and preponderance\\r\\n\\r\\nof probability how do you do a\\r\\n\\r\\npreponderance of probability of\\r\\n\\r\\nhistorical dates the Hindu side had said\\r\\n\\r\\nMuslims did not pray at the site after\\r\\n\\r\\n1934 but it was the Hindus that didn't\\r\\n\\r\\nallow the Muslims to pray at the Masjid\\r\\n\\r\\nthe law is argued installation of the\\r\\n\\r\\nidols of Hindu deities inside the Dome\\r\\n\\r\\nof the Babri Masjid in 1949 was a\\r\\n\\r\\nplanned tsarouchas attack photographs of\\r\\n\\r\\n1959 show Allah inscribed in Arabic\\r\\n\\r\\ncalligraphy the pillars inside the\\r\\n\\r\\nstructure have nothing to show the place\\r\\n\\r\\nwas a temple they were entitled to\\r\\n\\r\\nrestoration of the building as it stood\\r\\n\\r\\non 5th December 1992 there was no claim\\r\\n\\r\\nof title by Hindus till 1989 there was\\r\\n\\r\\nno finding of destruction of the temple\\r\\n\\r\\nby the Archaeological Survey of India\\r\\n\\r\\nMuslims were in possession of the land\\r\\n\\r\\nthroat claim of title by Hindus in 1886\\r\\n\\r\\nwas denied beliefs travelogues cannot\\r\\n\\r\\ngive Hindus the title possession of\\r\\n\\r\\nMuslims was never in doubt custom is not\\r\\n\\r\\na mind game and it can\\r\\n\\r\\nbe mixed but believe Muslims have been\\r\\n\\r\\nshrunk to the little size of 433 yards\\r\\n\\r\\nexcluding the dome as per the High Court\\r\\n\\r\\nverdict the top court is expected to\\r\\n\\r\\npronounce the word before the 17th of\\r\\n\\r\\nNovember the date the Chief Justice of\\r\\n\\r\\nIndia Justice Ranjan Gogoi retires with\\r\\n\\r\\na vaidyanathan shaitaan' party charge\\r\\n\\r\\nEffendi TV\\r\\n\\r\\n\""
      ]
     },
     "execution_count": 4,
     "metadata": {},
     "output_type": "execute_result"
    }
   ],
   "source": [
    "data_df.transcript.loc['ndtv']"
   ]
  },
  {
   "cell_type": "code",
   "execution_count": 5,
   "metadata": {},
   "outputs": [],
   "source": [
    "import re\n",
    "import string\n",
    "\n",
    "def clean_text_round1(text):\n",
    "    '''Make text lowercase, remove text in square brackets, remove punctuation and remove words containing numbers.'''\n",
    "    text = text.lower()\n",
    "    text = re.sub('\\[.*?\\]', '', text)\n",
    "    text = re.sub('[%s]' % re.escape(string.punctuation), '', text)\n",
    "    text = re.sub('\\w*\\d\\w*', '', text)\n",
    "    return text\n",
    "\n",
    "round1 = lambda x: clean_text_round1(x)"
   ]
  },
  {
   "cell_type": "code",
   "execution_count": 6,
   "metadata": {},
   "outputs": [],
   "source": [
    "data_clean = pd.DataFrame(data_df.transcript.apply(round1))"
   ]
  },
  {
   "cell_type": "code",
   "execution_count": 7,
   "metadata": {
    "scrolled": true
   },
   "outputs": [
    {
     "data": {
      "text/html": [
       "<div>\n",
       "<style scoped>\n",
       "    .dataframe tbody tr th:only-of-type {\n",
       "        vertical-align: middle;\n",
       "    }\n",
       "\n",
       "    .dataframe tbody tr th {\n",
       "        vertical-align: top;\n",
       "    }\n",
       "\n",
       "    .dataframe thead th {\n",
       "        text-align: right;\n",
       "    }\n",
       "</style>\n",
       "<table border=\"1\" class=\"dataframe\">\n",
       "  <thead>\n",
       "    <tr style=\"text-align: right;\">\n",
       "      <th></th>\n",
       "      <th>transcript</th>\n",
       "    </tr>\n",
       "  </thead>\n",
       "  <tbody>\n",
       "    <tr>\n",
       "      <th>indiatoday</th>\n",
       "      <td>\\r\\n\\r\\nthe supreme courts our yoga verdict was\\r\\n\\r\\ndelivered today five judge unanimous\\r\\n\\r\\nverdict that has given several big\\r\\n\\r\\ntakea...</td>\n",
       "    </tr>\n",
       "    <tr>\n",
       "      <th>ndtv</th>\n",
       "      <td>hello and welcome youre watching left\\r\\n\\r\\nright and center im sanka the father it\\r\\n\\r\\nis curtains on a very old case of\\r\\n\\r\\nproperty disp...</td>\n",
       "    </tr>\n",
       "    <tr>\n",
       "      <th>republic</th>\n",
       "      <td>hello and welcome ladies and gentlemen\\r\\n\\r\\nthis is live edition of the sunday\\r\\n\\r\\ndebate and yesterday we it was a\\r\\n\\r\\nhistoric day when ...</td>\n",
       "    </tr>\n",
       "  </tbody>\n",
       "</table>\n",
       "</div>"
      ],
      "text/plain": [
       "                                                                                                                                                       transcript\n",
       "indiatoday  \\r\\n\\r\\nthe supreme courts our yoga verdict was\\r\\n\\r\\ndelivered today five judge unanimous\\r\\n\\r\\nverdict that has given several big\\r\\n\\r\\ntakea...\n",
       "ndtv        hello and welcome youre watching left\\r\\n\\r\\nright and center im sanka the father it\\r\\n\\r\\nis curtains on a very old case of\\r\\n\\r\\nproperty disp...\n",
       "republic    hello and welcome ladies and gentlemen\\r\\n\\r\\nthis is live edition of the sunday\\r\\n\\r\\ndebate and yesterday we it was a\\r\\n\\r\\nhistoric day when ..."
      ]
     },
     "execution_count": 7,
     "metadata": {},
     "output_type": "execute_result"
    }
   ],
   "source": [
    "data_clean"
   ]
  },
  {
   "cell_type": "code",
   "execution_count": 8,
   "metadata": {},
   "outputs": [],
   "source": [
    "def clean_text_round2(text):\n",
    "    '''Get rid of some additional punctuation and non-sensical text that was missed the first time around.'''\n",
    "    text = re.sub('[‘’“”…]', '', text)\n",
    "    text = re.sub('\\n', '', text)\n",
    "    return text\n",
    "\n",
    "round2 = lambda x: clean_text_round2(x)"
   ]
  },
  {
   "cell_type": "code",
   "execution_count": 9,
   "metadata": {},
   "outputs": [
    {
     "data": {
      "text/html": [
       "<div>\n",
       "<style scoped>\n",
       "    .dataframe tbody tr th:only-of-type {\n",
       "        vertical-align: middle;\n",
       "    }\n",
       "\n",
       "    .dataframe tbody tr th {\n",
       "        vertical-align: top;\n",
       "    }\n",
       "\n",
       "    .dataframe thead th {\n",
       "        text-align: right;\n",
       "    }\n",
       "</style>\n",
       "<table border=\"1\" class=\"dataframe\">\n",
       "  <thead>\n",
       "    <tr style=\"text-align: right;\">\n",
       "      <th></th>\n",
       "      <th>transcript</th>\n",
       "    </tr>\n",
       "  </thead>\n",
       "  <tbody>\n",
       "    <tr>\n",
       "      <th>indiatoday</th>\n",
       "      <td>\\r\\rthe supreme courts our yoga verdict was\\r\\rdelivered today five judge unanimous\\r\\rverdict that has given several big\\r\\rtakeaways if youve ju...</td>\n",
       "    </tr>\n",
       "    <tr>\n",
       "      <th>ndtv</th>\n",
       "      <td>hello and welcome youre watching left\\r\\rright and center im sanka the father it\\r\\ris curtains on a very old case of\\r\\rproperty dispute which th...</td>\n",
       "    </tr>\n",
       "    <tr>\n",
       "      <th>republic</th>\n",
       "      <td>hello and welcome ladies and gentlemen\\r\\rthis is live edition of the sunday\\r\\rdebate and yesterday we it was a\\r\\rhistoric day when the iot a ve...</td>\n",
       "    </tr>\n",
       "  </tbody>\n",
       "</table>\n",
       "</div>"
      ],
      "text/plain": [
       "                                                                                                                                                       transcript\n",
       "indiatoday  \\r\\rthe supreme courts our yoga verdict was\\r\\rdelivered today five judge unanimous\\r\\rverdict that has given several big\\r\\rtakeaways if youve ju...\n",
       "ndtv        hello and welcome youre watching left\\r\\rright and center im sanka the father it\\r\\ris curtains on a very old case of\\r\\rproperty dispute which th...\n",
       "republic    hello and welcome ladies and gentlemen\\r\\rthis is live edition of the sunday\\r\\rdebate and yesterday we it was a\\r\\rhistoric day when the iot a ve..."
      ]
     },
     "execution_count": 9,
     "metadata": {},
     "output_type": "execute_result"
    }
   ],
   "source": [
    "data_clean = pd.DataFrame(data_clean.transcript.apply(round2))\n",
    "data_clean"
   ]
  },
  {
   "cell_type": "code",
   "execution_count": 10,
   "metadata": {},
   "outputs": [],
   "source": [
    "data_df\n",
    "data_df.to_pickle(\"corpus.pkl\")"
   ]
  },
  {
   "cell_type": "code",
   "execution_count": 11,
   "metadata": {},
   "outputs": [
    {
     "data": {
      "text/html": [
       "<div>\n",
       "<style scoped>\n",
       "    .dataframe tbody tr th:only-of-type {\n",
       "        vertical-align: middle;\n",
       "    }\n",
       "\n",
       "    .dataframe tbody tr th {\n",
       "        vertical-align: top;\n",
       "    }\n",
       "\n",
       "    .dataframe thead th {\n",
       "        text-align: right;\n",
       "    }\n",
       "</style>\n",
       "<table border=\"1\" class=\"dataframe\">\n",
       "  <thead>\n",
       "    <tr style=\"text-align: right;\">\n",
       "      <th></th>\n",
       "      <th>aapke</th>\n",
       "      <th>aaron</th>\n",
       "      <th>aarthi</th>\n",
       "      <th>ab</th>\n",
       "      <th>aberration</th>\n",
       "      <th>abided</th>\n",
       "      <th>ability</th>\n",
       "      <th>able</th>\n",
       "      <th>absent</th>\n",
       "      <th>absolutely</th>\n",
       "      <th>...</th>\n",
       "      <th>youre</th>\n",
       "      <th>youve</th>\n",
       "      <th>yupi</th>\n",
       "      <th>zafar</th>\n",
       "      <th>zakir</th>\n",
       "      <th>zameen</th>\n",
       "      <th>zameer</th>\n",
       "      <th>zfg</th>\n",
       "      <th>zoom</th>\n",
       "      <th>zubrowka</th>\n",
       "    </tr>\n",
       "  </thead>\n",
       "  <tbody>\n",
       "    <tr>\n",
       "      <th>indiatoday</th>\n",
       "      <td>0</td>\n",
       "      <td>0</td>\n",
       "      <td>0</td>\n",
       "      <td>0</td>\n",
       "      <td>0</td>\n",
       "      <td>0</td>\n",
       "      <td>0</td>\n",
       "      <td>7</td>\n",
       "      <td>0</td>\n",
       "      <td>0</td>\n",
       "      <td>...</td>\n",
       "      <td>4</td>\n",
       "      <td>1</td>\n",
       "      <td>1</td>\n",
       "      <td>0</td>\n",
       "      <td>0</td>\n",
       "      <td>1</td>\n",
       "      <td>0</td>\n",
       "      <td>0</td>\n",
       "      <td>0</td>\n",
       "      <td>1</td>\n",
       "    </tr>\n",
       "    <tr>\n",
       "      <th>ndtv</th>\n",
       "      <td>0</td>\n",
       "      <td>0</td>\n",
       "      <td>2</td>\n",
       "      <td>0</td>\n",
       "      <td>0</td>\n",
       "      <td>0</td>\n",
       "      <td>0</td>\n",
       "      <td>4</td>\n",
       "      <td>0</td>\n",
       "      <td>3</td>\n",
       "      <td>...</td>\n",
       "      <td>5</td>\n",
       "      <td>3</td>\n",
       "      <td>0</td>\n",
       "      <td>1</td>\n",
       "      <td>1</td>\n",
       "      <td>0</td>\n",
       "      <td>2</td>\n",
       "      <td>0</td>\n",
       "      <td>0</td>\n",
       "      <td>0</td>\n",
       "    </tr>\n",
       "    <tr>\n",
       "      <th>republic</th>\n",
       "      <td>2</td>\n",
       "      <td>1</td>\n",
       "      <td>0</td>\n",
       "      <td>1</td>\n",
       "      <td>1</td>\n",
       "      <td>1</td>\n",
       "      <td>3</td>\n",
       "      <td>3</td>\n",
       "      <td>1</td>\n",
       "      <td>5</td>\n",
       "      <td>...</td>\n",
       "      <td>7</td>\n",
       "      <td>4</td>\n",
       "      <td>0</td>\n",
       "      <td>0</td>\n",
       "      <td>0</td>\n",
       "      <td>0</td>\n",
       "      <td>0</td>\n",
       "      <td>1</td>\n",
       "      <td>2</td>\n",
       "      <td>0</td>\n",
       "    </tr>\n",
       "  </tbody>\n",
       "</table>\n",
       "<p>3 rows × 3872 columns</p>\n",
       "</div>"
      ],
      "text/plain": [
       "            aapke  aaron  aarthi  ab  aberration  abided  ability  able  \\\n",
       "indiatoday      0      0       0   0           0       0        0     7   \n",
       "ndtv            0      0       2   0           0       0        0     4   \n",
       "republic        2      1       0   1           1       1        3     3   \n",
       "\n",
       "            absent  absolutely  ...  youre  youve  yupi  zafar  zakir  zameen  \\\n",
       "indiatoday       0           0  ...      4      1     1      0      0       1   \n",
       "ndtv             0           3  ...      5      3     0      1      1       0   \n",
       "republic         1           5  ...      7      4     0      0      0       0   \n",
       "\n",
       "            zameer  zfg  zoom  zubrowka  \n",
       "indiatoday       0    0     0         1  \n",
       "ndtv             2    0     0         0  \n",
       "republic         0    1     2         0  \n",
       "\n",
       "[3 rows x 3872 columns]"
      ]
     },
     "execution_count": 11,
     "metadata": {},
     "output_type": "execute_result"
    }
   ],
   "source": [
    "from sklearn.feature_extraction.text import CountVectorizer\n",
    "\n",
    "cv = CountVectorizer(stop_words='english')\n",
    "data_cv = cv.fit_transform(data_clean.transcript)\n",
    "data_dtm = pd.DataFrame(data_cv.toarray(), columns=cv.get_feature_names())\n",
    "data_dtm.index = data_clean.index\n",
    "data_dtm"
   ]
  },
  {
   "cell_type": "code",
   "execution_count": 12,
   "metadata": {},
   "outputs": [],
   "source": [
    "data_dtm.to_pickle(\"dtm.pkl\")"
   ]
  },
  {
   "cell_type": "code",
   "execution_count": 13,
   "metadata": {},
   "outputs": [],
   "source": [
    "data_clean.to_pickle('data_clean.pkl')\n",
    "pickle.dump(cv, open(\"cv.pkl\", \"wb\"))"
   ]
  },
  {
   "cell_type": "code",
   "execution_count": null,
   "metadata": {},
   "outputs": [],
   "source": []
  }
 ],
 "metadata": {
  "kernelspec": {
   "display_name": "Python 3",
   "language": "python",
   "name": "python3"
  },
  "language_info": {
   "codemirror_mode": {
    "name": "ipython",
    "version": 3
   },
   "file_extension": ".py",
   "mimetype": "text/x-python",
   "name": "python",
   "nbconvert_exporter": "python",
   "pygments_lexer": "ipython3",
   "version": "3.7.6"
  }
 },
 "nbformat": 4,
 "nbformat_minor": 2
}
